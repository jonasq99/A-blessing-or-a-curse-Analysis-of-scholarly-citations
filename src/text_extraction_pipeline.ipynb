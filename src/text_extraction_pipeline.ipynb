{
 "cells": [
  {
   "cell_type": "code",
   "execution_count": 19,
   "metadata": {},
   "outputs": [],
   "source": [
    "import pandas as pd\n",
    "import numpy as np \n",
    "import re\n",
    "import os\n",
    "import json\n",
    "import nltk"
   ]
  },
  {
   "cell_type": "code",
   "execution_count": 4,
   "metadata": {},
   "outputs": [],
   "source": [
    "def file_finder(file_str: str) -> str:\n",
    "    \"\"\"\n",
    "    This function takes a file name and returns the path to the file in the all_data_articles.\n",
    "    \"\"\"\n",
    "    title_doi = \"../data/titles_doi.csv\"\n",
    "    folder_path = \"../all_data_articles\"\n",
    "    \n",
    "    #extract the doi from the file name\n",
    "    doi = file_str.split(\"_\")[-1].split(\".\")[0]\n",
    "\n",
    "    # find the row in the csv file where the doi column ends with the doi\n",
    "    df = pd.read_csv(title_doi)\n",
    "    doi_row = df[df[\"DOI\"].str.endswith(doi)]\n",
    "\n",
    "    # extract the title from the row\n",
    "    title_json = doi_row[\"Title\"].values[0].replace(\" \", \"_\") + \".json\"\n",
    "\n",
    "    for filename in os.listdir(folder_path):\n",
    "        if filename.endswith(\".json\") and filename.startswith(title_json[:int(len(title_json)/3)]):\n",
    "            return filename"
   ]
  },
  {
   "cell_type": "code",
   "execution_count": 7,
   "metadata": {},
   "outputs": [
    {
     "name": "stdout",
     "output_type": "stream",
     "text": [
      "Labels - https___doi.org_10.1093_ehr_cew052.xlsx\n"
     ]
    }
   ],
   "source": [
    "path_annotations = \"../data/annotated\"\n",
    "\n",
    "for filename in os.listdir(path_annotations):\n",
    "    print(filename)\n",
    "    title_json = file_finder(filename)\n",
    "    path = \"../all_data_articles\"\n",
    "    file_path = os.path.join(path, title_json)\n",
    "    article = json.load(open(file_path, \"r\"))\n",
    "    break"
   ]
  },
  {
   "cell_type": "code",
   "execution_count": 11,
   "metadata": {},
   "outputs": [
    {
     "data": {
      "text/plain": [
       "3621"
      ]
     },
     "execution_count": 11,
     "metadata": {},
     "output_type": "execute_result"
    }
   ],
   "source": [
    "article[\"article\"].find(\"[CITATION-2]\") "
   ]
  },
  {
   "cell_type": "code",
   "execution_count": 16,
   "metadata": {},
   "outputs": [
    {
     "data": {
      "text/plain": [
       "-1"
      ]
     },
     "execution_count": 16,
     "metadata": {},
     "output_type": "execute_result"
    }
   ],
   "source": [
    "article[\"article\"].find(\"\\n\", 10)"
   ]
  },
  {
   "cell_type": "code",
   "execution_count": 44,
   "metadata": {},
   "outputs": [],
   "source": [
    "class TextExtraction:\n",
    "\n",
    "    def __init__(self, article_dict: dict, previous_context_tokens: int = None, following_context_tokens: int = None, \n",
    "                 previous_context_sentences: int = None, following_context_sentences: int = None, previous_whole_paragraph: bool = None,\n",
    "                 following_whole_paragraph: bool = None, footnote_text: bool = True, footnote_mask: bool = True):\n",
    "        \n",
    "        self.previous_context_tokens = previous_context_tokens\n",
    "        self.following_context_tokens = following_context_tokens\n",
    "        self.previous_context_sentences = previous_context_sentences\n",
    "        self.following_context_sentences = following_context_sentences\n",
    "        self.previous_whole_paragraph = previous_whole_paragraph\n",
    "        self.following_whole_paragraph = following_whole_paragraph\n",
    "        self.footnote_text = footnote_text\n",
    "        self.footnote_mask = footnote_mask\n",
    "\n",
    "        self.article_text = article_dict[\"article\"]\n",
    "        #keep in mind keys of this dict are strings of integers\n",
    "        self.footnote_dict = article_dict[\"footnotes\"]\n",
    "\n",
    "\n",
    "    \n",
    "    def generate_context(self, footnote_number: int):\n",
    "        # Get the content of the specified footnote\n",
    "        footnote_content = self.footnote_dict[str(footnote_number)]\n",
    "\n",
    "        # Find the index of the footnote in the article text\n",
    "        footnote_index = self.article_text.find(f\"[CITATION-{footnote_number}]\")\n",
    "\n",
    "        # Extract the relevant context based on options\n",
    "        start_index = max(0, self.find_previous_token_index(footnote_index))\n",
    "        end_index = min(len(self.article_text), self.find_following_token_index(footnote_index + len(f\"[CITATION-{footnote_number}]\")))\n",
    "\n",
    "        if self.previous_whole_paragraph:\n",
    "            start_index = max(0, self.article_text.rfind('\\n', 0, start_index) + 1)\n",
    "\n",
    "        if self.following_whole_paragraph:\n",
    "            end_index = self.article_text.find('\\n', end_index)\n",
    "\n",
    "        #TODO: maybe rework\n",
    "        # Include n amount of previous sentences\n",
    "        if self.previous_context_sentences:\n",
    "            sentences = nltk.sent_tokenize(self.article_text[:start_index])\n",
    "            start_index = max(0, start_index - sum(len(sentence) for sentence in sentences[-self.previous_context_sentences:]))\n",
    "        \n",
    "        #TODO: maybe rework\n",
    "        # Include n amount of following sentences\n",
    "        if self.following_context_sentences:\n",
    "            sentences = nltk.sent_tokenize(self.article_text[end_index:])\n",
    "            end_index = min(len(self.article_text), end_index + sum(len(sentence) for sentence in sentences[:self.following_context_sentences]))\n",
    "\n",
    "        context = self.article_text[start_index:end_index].strip()\n",
    "\n",
    "        # Apply footnote mask if required\n",
    "        if self.footnote_mask:\n",
    "            context = self.replace_citations(context, footnote_number)\n",
    "\n",
    "\n",
    "        # Add footnote text if required\n",
    "        if self.footnote_text:\n",
    "            context += '   \\n   ' + f\"Footnote {footnote_number}: {footnote_content}\"\n",
    "\n",
    "        return context\n",
    "    \n",
    "    @staticmethod\n",
    "    def replace_citations(text: str, footnote_number: int) -> str:\n",
    "        citation_pattern = r'\\[CITATION-(\\d+)\\]'\n",
    "        def replacer(match):\n",
    "            if match.group(1) == str(footnote_number):\n",
    "                return match.group(0)\n",
    "            else:\n",
    "                return \"[MASK]\"\n",
    "        replaced_text = re.sub(citation_pattern, replacer, text)\n",
    "        return replaced_text\n",
    "\n",
    "\n",
    "    def find_previous_token_index(self, index: int) -> int:\n",
    "        if self.previous_context_tokens is None:\n",
    "            return index\n",
    "        \n",
    "        count_tokens = 0\n",
    "        while count_tokens < self.previous_context_tokens and index > 0:\n",
    "            index -= 1\n",
    "            if self.article_text[index].isspace():\n",
    "                count_tokens += 1\n",
    "        return index\n",
    "\n",
    "    def find_following_token_index(self, index: int) -> int:\n",
    "        if self.following_context_tokens is None:\n",
    "            return index\n",
    "\n",
    "        count_tokens = 0\n",
    "        while count_tokens < self.following_context_tokens and index < len(self.article_text):\n",
    "            index += 1\n",
    "            if self.article_text[index].isspace():\n",
    "                count_tokens += 1\n",
    "        return index\n"
   ]
  },
  {
   "cell_type": "code",
   "execution_count": 55,
   "metadata": {},
   "outputs": [
    {
     "data": {
      "text/plain": [
       "'about the collectivist common good.[CITATION-4] Stephen Brooke has also emphasised the twentieth-century Labour Party’s flexible and ‘libertarian’ understanding of socialism.[CITATION-5] Its attempts in the 1940s to match the values of'"
      ]
     },
     "execution_count": 55,
     "metadata": {},
     "output_type": "execute_result"
    }
   ],
   "source": [
    "TextExtraction(article, previous_context_tokens = 20, following_context_tokens = 10, footnote_text = False, footnote_mask=False).generate_context(5)"
   ]
  },
  {
   "cell_type": "code",
   "execution_count": null,
   "metadata": {},
   "outputs": [],
   "source": []
  }
 ],
 "metadata": {
  "kernelspec": {
   "display_name": ".venv",
   "language": "python",
   "name": "python3"
  },
  "language_info": {
   "codemirror_mode": {
    "name": "ipython",
    "version": 3
   },
   "file_extension": ".py",
   "mimetype": "text/x-python",
   "name": "python",
   "nbconvert_exporter": "python",
   "pygments_lexer": "ipython3",
   "version": "3.12.0"
  }
 },
 "nbformat": 4,
 "nbformat_minor": 2
}
