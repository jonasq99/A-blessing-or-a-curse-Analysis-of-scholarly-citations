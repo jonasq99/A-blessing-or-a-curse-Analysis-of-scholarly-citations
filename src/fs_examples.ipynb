{
 "cells": [
  {
   "cell_type": "code",
   "execution_count": 36,
   "metadata": {},
   "outputs": [],
   "source": [
    "import json\n",
    "import os\n",
    "import pandas as pd\n",
    "from pathlib import Path\n",
    "from text_extraction import file_finder, TextExtraction\n",
    "from utils import create_data, get_completion_from_messages"
   ]
  },
  {
   "cell_type": "code",
   "execution_count": 9,
   "metadata": {},
   "outputs": [],
   "source": [
    "def doi_to_article_name(doi: str) -> str:\n",
    "    \"\"\"\n",
    "    This function takes a file name and returns the path to the file in the all_data_articles.\n",
    "    \"\"\"\n",
    "    title_doi = \"../data/titles_doi.csv\"\n",
    "    folder_path = \"../all_data_articles\"\n",
    "    \n",
    "    #extract the doi from the file name\n",
    "    #doi = file_str.split(\"_\")[-1].split(\".\")[0]\n",
    "\n",
    "    # find the row in the csv file where the doi column ends with the doi\n",
    "    df = pd.read_csv(title_doi)\n",
    "    doi_row = df[df[\"DOI\"].str.endswith(doi)]\n",
    "\n",
    "    # extract the title from the row\n",
    "    title_json = doi_row[\"Title\"].values[0].replace(\" \", \"_\") + \".json\"\n",
    "\n",
    "    for filename in os.listdir(folder_path):\n",
    "        if filename.endswith(\".json\") and filename.startswith(title_json[:int(len(title_json)/3)]):\n",
    "            return filename"
   ]
  },
  {
   "cell_type": "code",
   "execution_count": 10,
   "metadata": {},
   "outputs": [],
   "source": [
    "op_examples = pd.read_csv('../data/few_shot_examples/opinionated_examples.csv')\n",
    "neutral_examples = pd.read_csv('../data/few_shot_examples/neutral_examples.csv')\n",
    "data = create_data()\n",
    "data_keys = list(data.keys())"
   ]
  },
  {
   "cell_type": "code",
   "execution_count": 11,
   "metadata": {},
   "outputs": [],
   "source": [
    "path_annotations = Path(\"../data/annotated\")\n",
    "path_articles = Path(\"../all_data_articles\")"
   ]
  },
  {
   "cell_type": "code",
   "execution_count": 13,
   "metadata": {},
   "outputs": [
    {
     "data": {
      "text/plain": [
       "'Royal_Attitudes_to_the_Atlantic_Slave_Trade_and_Abolition_in_the_Late_Eighteenth_and_Early_Nineteenth_Centuries*.json'"
      ]
     },
     "execution_count": 13,
     "metadata": {},
     "output_type": "execute_result"
    }
   ],
   "source": [
    "doi_to_article_name(neutral_examples['doi'].iloc[0])"
   ]
  },
  {
   "cell_type": "code",
   "execution_count": 48,
   "metadata": {},
   "outputs": [],
   "source": [
    "examples = []\n",
    "for i in range(len(neutral_examples)):\n",
    "    name = neutral_examples[\"author/s\"].iloc[i]\n",
    "    title = neutral_examples['title'].iloc[i]\n",
    "    article = doi_to_article_name(neutral_examples['doi'].iloc[i])\n",
    "    article_path = path_articles / article\n",
    "    footnote_number = neutral_examples['footnote'].iloc[i]\n",
    "    with open(article_path, \"r\", encoding=\"utf-8\") as file:\n",
    "            article_dict = json.load(file)\n",
    "    context = TextExtraction(article_dict, previous_context_tokens=45, following_context_tokens=45,\n",
    "                        previous_context_sentences=None, following_context_sentences=None,\n",
    "                        previous_whole_paragraph=False, following_whole_paragraph=False,\n",
    "                        till_previous_citation=None, till_following_citation=None\n",
    "                    , footnote_text=False, footnote_mask=True\n",
    "                    ).generate_context(footnote_number)\n",
    "    footnote = article_dict[\"footnotes\"][str(footnote_number)]\n",
    "    label = neutral_examples['label'].iloc[i]\n",
    "    examples.append({\"name\": name, \"title\": title, \"context\": context, \"footnote\": footnote, \"label\": label})\n",
    "\n",
    "\n",
    "for i in range(len(op_examples)):\n",
    "    name = op_examples[\"author/s\"].iloc[i]\n",
    "    title = op_examples['title'].iloc[i]\n",
    "    article = doi_to_article_name(op_examples['doi'].iloc[i])\n",
    "    article_path = path_articles / article\n",
    "    footnote_number = op_examples['footnote'].iloc[i]\n",
    "    with open(article_path, \"r\", encoding=\"utf-8\") as file:\n",
    "            article_dict = json.load(file)\n",
    "    context = TextExtraction(article_dict, previous_context_tokens=45, following_context_tokens=45,\n",
    "                        previous_context_sentences=None, following_context_sentences=None,\n",
    "                        previous_whole_paragraph=False, following_whole_paragraph=False,\n",
    "                        till_previous_citation=None, till_following_citation=None\n",
    "                    , footnote_text=False, footnote_mask=True\n",
    "                    ).generate_context(footnote_number)\n",
    "    footnote = article_dict[\"footnotes\"][str(footnote_number)]\n",
    "    label = op_examples['label'].iloc[i]\n",
    "    examples.append({\"name\": name, \"title\": title, \"context\": context, \"footnote\": footnote, \"label\": label})"
   ]
  },
  {
   "cell_type": "code",
   "execution_count": 54,
   "metadata": {},
   "outputs": [],
   "source": [
    "few_shot_examples = \"\"\n",
    "\n",
    "for example in [examples[0], examples[3], examples[1]]:\n",
    "    name = example[\"name\"]\n",
    "    title = example[\"title\"]\n",
    "    context = example[\"context\"]\n",
    "    footnote = example[\"footnote\"]\n",
    "    label = example[\"label\"]\n",
    "    example_string = f\"\"\"\n",
    "    name: {name}\n",
    "    title: {title}\n",
    "    context: {context}\n",
    "    footnote: {footnote}\n",
    "    label: {label}\n",
    "    \"\"\"\n",
    "    few_shot_examples += example_string"
   ]
  },
  {
   "cell_type": "code",
   "execution_count": 67,
   "metadata": {},
   "outputs": [],
   "source": [
    "def get_sentiment(name, title, context, footnote):\n",
    "    \n",
    "    system_message = \"\"\"\n",
    "    You are an expert in analyzing citations from historical papers. It is your job \n",
    "    to determine if the author makes a statement about the quality of the work or just \n",
    "    uses it for the purpose of information reproduction.\n",
    "    \"\"\"\n",
    "    prompt = f\"\"\"\n",
    "    You will receive the name of the author of the cited source, its title, the context \n",
    "    of the citation and its corresponding footnote. \n",
    "    The data will be submitted in the following format:\n",
    "    #######################Begin format instructions####################################\n",
    "    name: name of authors\n",
    "    title: title of cited source\n",
    "    context: The context of the citation\n",
    "    footnote: The corresponding footnote text of the citation\n",
    "    #######################End format instructions#################################\n",
    "    In the context citations are annotated like this: \"[Citation footnotenumber]\".\n",
    "\n",
    "    The author makes a statement about the quality of the work if:\n",
    "    - the author makes a judgemental statement about the quality of a  cited source. \n",
    "    - the author rates the quality of the work in a positive or negative mannser etc.\n",
    "    Keywords of opinionated citations:\n",
    "    - better, failed, argue, however, convincingy, nuanced, vague, fail, overlook, simplification\n",
    "    Be very strict when labeling if a statement about the quality of a work is made. Only do so if the criteria match precisely.\n",
    "\n",
    "    A citation reproduces information if it does not make an explicit statement about the quality of the cited work!\n",
    "\n",
    "    Look closely at the text in the footnote! It can be the case that the hint if \n",
    "    a citation is neutral or opinionated might be located in the footnote text.\n",
    "    Footnotes often contain multiple citations of different authors. \n",
    "    Look at the names of authors from the name field and relate them to the footnote. \n",
    "    Only rate the citation that is related to the name of authors in the name field. \n",
    "\n",
    "    Return 1 if the author makes a statement about the quality of the work else 0.\n",
    "    Only return integerts 0 and 1, nothing else.\n",
    "    #################Begin data####################################\n",
    "    name: {name}\n",
    "    title: {title}\n",
    "    context: {context}\n",
    "    footnote: {footnote}\n",
    "    Your answer: Enter integer here\n",
    "    \"\"\"\n",
    "    messages = [{\"role\": \"system\", \"content\": system_message}, {\"role\": \"user\", \"content\": prompt}]\n",
    "    prediction = get_completion_from_messages(messages)\n",
    "    return prediction"
   ]
  },
  {
   "cell_type": "code",
   "execution_count": 69,
   "metadata": {},
   "outputs": [
    {
     "name": "stdout",
     "output_type": "stream",
     "text": [
      "['0', '0', '0', '0', '0', '1', '1', '1', '1', '1']\n",
      "['0', '0', '0', '0', '0', '0', '0', '0', '0', '0']\n",
      "['0', '0', '0', '0', '0', '0', '0', '0', '0', '0']\n",
      "['0', '1', '0', '0', '0', '0', '0', '0', '0', '0']\n",
      "['0', '0', '0', '0', '0', '0', '0', '0', '0', '0']\n",
      "['0', '0', '1', '1', '1', '1', '1', '1', '1', '1']\n",
      "['0', '0', '0', '0', '0', '0', '0', '0', '0', '0']\n",
      "['0', '0', '0', '0', '0', '0', '0', '0', '0', '0']\n"
     ]
    }
   ],
   "source": [
    "for i in range(len(data_keys)):\n",
    "    df = data[data_keys[i]][0:10]\n",
    "\n",
    "    predictions = []\n",
    "    for i in range(len(df)):\n",
    "        name = df[\"Authors\"].iloc[i]\n",
    "        title = df[\"Title\"].iloc[i]\n",
    "        context = df[\"context\"].iloc[i]\n",
    "        footnote = df[\"footnote_text\"].iloc[i]\n",
    "\n",
    "        pred = get_sentiment(name, title, context, footnote)\n",
    "        predictions.append(pred)\n",
    "    print(predictions)"
   ]
  },
  {
   "cell_type": "code",
   "execution_count": null,
   "metadata": {},
   "outputs": [],
   "source": []
  }
 ],
 "metadata": {
  "kernelspec": {
   "display_name": "venv",
   "language": "python",
   "name": "python3"
  },
  "language_info": {
   "codemirror_mode": {
    "name": "ipython",
    "version": 3
   },
   "file_extension": ".py",
   "mimetype": "text/x-python",
   "name": "python",
   "nbconvert_exporter": "python",
   "pygments_lexer": "ipython3",
   "version": "3.10.12"
  }
 },
 "nbformat": 4,
 "nbformat_minor": 2
}
