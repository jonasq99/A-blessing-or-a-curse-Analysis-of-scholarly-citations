{
 "cells": [
  {
   "cell_type": "code",
   "execution_count": 2,
   "id": "initial_id",
   "metadata": {
    "ExecuteTime": {
     "end_time": "2023-12-30T18:44:23.233580127Z",
     "start_time": "2023-12-30T18:44:23.193010132Z"
    },
    "collapsed": true
   },
   "outputs": [],
   "source": [
    "import pandas as pd\n",
    "import json\n",
    "import os\n",
    "import subprocess\n",
    "import bibtexparser\n",
    "from tqdm import tqdm\n",
    "import re\n",
    "from flair.data import Sentence\n",
    "from fuzzywuzzy import fuzz"
   ]
  },
  {
   "cell_type": "code",
   "execution_count": null,
   "id": "bba55528",
   "metadata": {},
   "outputs": [],
   "source": [
    "SPLITT_PATTERN = re.compile(\"; see |; | . See also | .See also |. See |, see\")\n",
    "\n",
    "def file_finder(file_str: str) -> str:\n",
    "    \"\"\"\n",
    "    This function takes a file name and returns the path to the file in the all_data_articles.\n",
    "    \"\"\"\n",
    "    title_doi = \"../data/titles_doi.csv\"\n",
    "    folder_path = \"../all_data_articles\"\n",
    "\n",
    "    try:\n",
    "        # extract the doi from the file name\n",
    "        doi = file_str.split(\"_\")[-1].split(\".\")[0]\n",
    "\n",
    "        # find the row in the csv file where the doi column ends with the doi\n",
    "        df = pd.read_csv(title_doi)\n",
    "        doi_row = df[df[\"DOI\"].str.endswith(doi)]\n",
    "\n",
    "        # extract the title from the row\n",
    "        title_json = doi_row[\"Title\"].values[0].replace(\" \", \"_\") + \".json\"\n",
    "        title_json = \"\".join(\n",
    "            e for e in title_json if e.isalnum() or e == \"-\" or e == \"_\" or e == \".\"\n",
    "        )\n",
    "\n",
    "        for filename in os.listdir(folder_path):\n",
    "            if filename.endswith(\".json\") and filename.startswith(\n",
    "                title_json[: int(len(title_json) / 3)]\n",
    "            ):\n",
    "                return filename\n",
    "\n",
    "    except Exception as e:\n",
    "        raise FileNotFoundError(f\"File not found for {file_str}\") from e\n",
    "\n",
    "def load_annotations(file_str: str) -> pd.DataFrame:\n",
    "    \"\"\"\n",
    "    This function takes a file name and returns the annotations from the file.\n",
    "    And also replaces missing values with None.\n",
    "    \"\"\"\n",
    "    folder_path = \"../data/annotated\"\n",
    "\n",
    "    file_path = os.path.join(folder_path, file_str)\n",
    "    df = pd.read_excel(file_path)\n",
    "\n",
    "    # replace missing values with None\n",
    "    df = df.where(pd.notnull(df), None)\n",
    "\n",
    "    # replace values marked with nan with None\n",
    "    df = df.replace(\"nan\", None)\n",
    "\n",
    "    return df\n",
    "\n",
    "\n",
    "def format_author_name(name):\n",
    "    # TODO: probably need to handle more cases\n",
    "    if name is None:\n",
    "        return None\n",
    "    if \" and \" in name:\n",
    "        # Handle multiple authors\n",
    "        authors = name.split(\" and \")\n",
    "        formatted_authors = [format_author_name(author) for author in authors]\n",
    "        return \" and \".join(formatted_authors)\n",
    "    else:\n",
    "        parts = name.split()\n",
    "        # Handle case where there is a middle initial\n",
    "        if len(parts) == 3:\n",
    "            return f\"{parts[1]}, {parts[0]} {parts[2]}\"\n",
    "        # Handle case where there is no middle initial\n",
    "        elif len(parts) == 2:\n",
    "            return f\"{parts[1]}, {parts[0]}\"\n",
    "        else:\n",
    "            return name\n",
    "\n",
    "\n",
    "def df_to_triplets(df: pd.DataFrame, format_author=True) -> set:\n",
    "    \"\"\"\n",
    "    This function takes a dataframe and returns a set of triplets.\n",
    "    \"\"\"\n",
    "    triplets = set()\n",
    "    for i in range(len(df)):\n",
    "        if format_author:\n",
    "            triplet = (\n",
    "                df.iloc[i][\"Footnote\"],\n",
    "                format_author_name(df.iloc[i][\"Authors\"]),\n",
    "                df.iloc[i][\"Title\"],\n",
    "            )\n",
    "        else:\n",
    "            triplet = (\n",
    "                df.iloc[i][\"Footnote\"],\n",
    "                df.iloc[i][\"Authors\"],\n",
    "                df.iloc[i][\"Title\"],\n",
    "            )\n",
    "        triplets.add(triplet)\n",
    "    return triplets\n",
    "\n",
    "\n",
    "def dict_to_triplets(extraction: dict) -> set:\n",
    "    \"\"\"\n",
    "    Converts a dictionary of footnotes to a set of triplets\n",
    "    \"\"\"\n",
    "    triplets = set()\n",
    "\n",
    "    for number, references in extraction.items():\n",
    "        for reference in references:\n",
    "            author = reference[0]\n",
    "            title = reference[1]\n",
    "\n",
    "            if author == \"\":\n",
    "                author = None\n",
    "\n",
    "            if title == \"\":\n",
    "                title = None\n",
    "\n",
    "            triplets.add((int(number), author, title))\n",
    "\n",
    "    return triplets\n",
    "\n",
    "\n",
    "def information_extraction(\n",
    "    file_path: str, path=\"../all_data_articles\", path_to_anystyle=\".\"\n",
    ") -> set:\n",
    "    \"\"\"\n",
    "    This function takes a file path and returns a set of triplets.\n",
    "    \"\"\"\n",
    "    file_path = os.path.join(path, file_path)\n",
    "    article = json.load(open(file_path, \"r\"))\n",
    "    extraction = {}\n",
    "\n",
    "    prev_footnote = None\n",
    "\n",
    "    for number, footnote in tqdm(article[\"footnotes\"].items()):\n",
    "\n",
    "        # If the footnote is ibid, use the previous footnote\n",
    "        if footnote.startswith(\"Ibid\"):\n",
    "            # do not fully replace ibid with previous footnote but rather prepend it since there might be other references after ibid\n",
    "            footnote = prev_footnote + \"; \" + footnote.lstrip(\"Ibid. \")\n",
    "\n",
    "        # Store the footnote for the next iteration\n",
    "        prev_footnote = footnote\n",
    "\n",
    "        references = SPLITT_PATTERN.split(footnote)\n",
    "\n",
    "        author_title_list = []\n",
    "\n",
    "        for reference in references:\n",
    "\n",
    "            command = [\n",
    "                \"ruby\",\n",
    "                os.path.join(path_to_anystyle, \"anystyle.rb\"),\n",
    "                str(reference).strip(),\n",
    "            ]\n",
    "            bibtex = subprocess.run(command, stdout=subprocess.PIPE, text=True).stdout\n",
    "            parsed_bibtex = bibtexparser.loads(bibtex).entries\n",
    "\n",
    "            if parsed_bibtex:\n",
    "                parsed_bibtex = parsed_bibtex[0]\n",
    "            else:\n",
    "                # print(f\"No valid BibTeX entry found in: {bibtex}, set to empty dict\")\n",
    "                parsed_bibtex = {}\n",
    "\n",
    "            if \"note\" in parsed_bibtex:\n",
    "                continue\n",
    "\n",
    "            # Extract title and author\n",
    "            title = parsed_bibtex.get(\"title\", parsed_bibtex.get(\"booktitle\", None))\n",
    "            author = parsed_bibtex.get(\"author\", parsed_bibtex.get(\"editor\", None))\n",
    "\n",
    "            if author is not None or title is not None:\n",
    "                # Append author and title pair to the list\n",
    "                author_title_list.append([author, title])\n",
    "\n",
    "        # Store the list in the extraction dictionary with the footnote number as the key\n",
    "        extraction[number] = author_title_list\n",
    "\n",
    "    return dict_to_triplets(extraction)\n",
    "\n",
    "\n",
    "def calculate_scores(triplets, extractions):\n",
    "    TP = len(triplets & extractions)  # Intersection of triplets and extractions\n",
    "    FP = len(extractions - triplets)  # Elements in extractions but not in triplets\n",
    "    FN = len(triplets - extractions)  # Elements in triplets but not in extractions\n",
    "\n",
    "    recall = TP / (TP + FN) if TP + FN != 0 else 0\n",
    "    precision = TP / (TP + FP) if TP + FP != 0 else 0\n",
    "    f_score = (\n",
    "        2 * (precision * recall) / (precision + recall)\n",
    "        if precision + recall != 0\n",
    "        else 0\n",
    "    )\n",
    "\n",
    "    return recall, precision, f_score\n",
    "\n",
    "\n",
    "def calculate_similarity(str1, str2):\n",
    "    # return SequenceMatcher(None, str1, str2).ratio()\n",
    "\n",
    "    # https://pypi.org/project/fuzzywuzzy/\n",
    "    # TODO: could also use token_sort_ratio since token_set_ratio might be too generous\n",
    "    return fuzz.token_set_ratio(str1, str2) / 100\n",
    "\n",
    "\n",
    "def evaluate_extraction(set1, set2, threshold=0.95):\n",
    "    true_positives = 0\n",
    "    false_positives = 0\n",
    "    false_negatives = 0\n",
    "\n",
    "    for triplet1 in set1:\n",
    "        footnote1, author1, title1 = triplet1\n",
    "        author1 = author1 if author1 is not None else \"\"\n",
    "        title1 = title1 if title1 is not None else \"\"\n",
    "        concat_str1 = str(author1) + \" \" + str(title1)\n",
    "        found_match = False\n",
    "\n",
    "        for triplet2 in set2:\n",
    "            footnote2, author2, title2 = triplet2\n",
    "            author2 = author2 if author2 is not None else \"\"\n",
    "            title2 = title2 if title2 is not None else \"\"\n",
    "            concat_str2 = str(author2) + \" \" + str(title2)\n",
    "\n",
    "            # Check for footnote number and similarity\n",
    "            if (\n",
    "                footnote1 == footnote2\n",
    "                and calculate_similarity(concat_str1, concat_str2) >= threshold\n",
    "            ):\n",
    "                found_match = True\n",
    "                break\n",
    "\n",
    "        if found_match:\n",
    "            true_positives += 1\n",
    "        else:\n",
    "            false_negatives += 1\n",
    "\n",
    "    false_positives = len(set2) - true_positives\n",
    "\n",
    "    precision = (\n",
    "        true_positives / (true_positives + false_positives)\n",
    "        if (true_positives + false_positives) > 0\n",
    "        else 0\n",
    "    )\n",
    "    recall = (\n",
    "        true_positives / (true_positives + false_negatives)\n",
    "        if (true_positives + false_negatives) > 0\n",
    "        else 0\n",
    "    )\n",
    "    f_score = (\n",
    "        2 * (precision * recall) / (precision + recall)\n",
    "        if (precision + recall) > 0\n",
    "        else 0\n",
    "    )\n",
    "\n",
    "    return precision, recall, f_score\n",
    "\n",
    "\n",
    "# TODO: implement a simple approach with a just regrex to extract the author and title, and a simple split with \";\"\n",
    "\n",
    "\n",
    "def extract_citations(file_path: str, path=\"../all_data_articles\") -> set:\n",
    "    file_path = os.path.join(path, file_path)\n",
    "    article = json.load(open(file_path, \"r\"))\n",
    "    citations = set()\n",
    "    prev_footnote = None\n",
    "\n",
    "    for footnote_number, footnote_text in tqdm(article[\"footnotes\"].items()):\n",
    "        # If the footnote is ibid, use the previous footnote\n",
    "        if footnote_text.startswith(\"Ibid\"):\n",
    "            footnote_text = prev_footnote\n",
    "\n",
    "        prev_footnote = footnote_text\n",
    "\n",
    "        # Split the footnote into individual citations\n",
    "        individual_citations = SPLITT_PATTERN.split(footnote_text)\n",
    "\n",
    "        for citation_text in individual_citations:\n",
    "            # Regular expression to extract authors and titles\n",
    "            # TODO: try a better pattern\n",
    "            pattern = re.compile(r\"^(.+?),\\s+(.+?)[,|(]\")\n",
    "\n",
    "            match = pattern.match(citation_text)\n",
    "\n",
    "            if match:\n",
    "                author = match.group(1)\n",
    "                title = match.group(2)\n",
    "                citations.add((int(footnote_number), author, title))\n",
    "    return citations\n",
    "\n",
    "\n",
    "def tagger_information_extraction(\n",
    "    file_path: str, tagger, path=\"../all_data_articles\"\n",
    ") -> set:\n",
    "    file_path = os.path.join(path, file_path)\n",
    "    article = json.load(open(file_path, \"r\"))\n",
    "\n",
    "    citations = set()\n",
    "    prev_footnote = None\n",
    "\n",
    "    for footnote_number, footnote_text in tqdm(article[\"footnotes\"].items()):\n",
    "        # If the footnote is ibid, use the previous footnote\n",
    "        if footnote_text.startswith(\"Ibid\"):\n",
    "            footnote_text = prev_footnote\n",
    "\n",
    "        prev_footnote = footnote_text\n",
    "\n",
    "        # Split the footnote into individual citations\n",
    "        individual_citations = SPLITT_PATTERN.split(footnote_text)\n",
    "\n",
    "        for citation_text in individual_citations:\n",
    "\n",
    "            author = None\n",
    "\n",
    "            sentence = Sentence(citation_text)\n",
    "            tagger.predict(sentence)\n",
    "            for span in sentence.get_spans(\"ner\"):\n",
    "                if span.tag == \"PERSON\" or span.tag == \"ORG\":\n",
    "                    if author is None:\n",
    "                        author = span.text\n",
    "                    else:\n",
    "                        author += \"and \" + span.text\n",
    "                if span.tag == \"WORK_OF_ART\":\n",
    "                    citations.add((int(footnote_number), author, span.text))\n",
    "                    author = None\n",
    "\n",
    "    return citations"
   ]
  },
  {
   "cell_type": "code",
   "execution_count": 13,
   "id": "fc62f5f9",
   "metadata": {},
   "outputs": [],
   "source": [
    "evaluation = {}"
   ]
  },
  {
   "cell_type": "code",
   "execution_count": 14,
   "id": "475026d2",
   "metadata": {
    "ExecuteTime": {
     "end_time": "2023-12-30T19:01:20.171540038Z",
     "start_time": "2023-12-30T18:44:23.344465637Z"
    }
   },
   "outputs": [
    {
     "name": "stdout",
     "output_type": "stream",
     "text": [
      "Labels - https___doi.org_10.1093_ehr_cew052.xlsx\n"
     ]
    },
    {
     "name": "stderr",
     "output_type": "stream",
     "text": [
      "100%|██████████| 148/148 [01:12<00:00,  2.04it/s]\n"
     ]
    },
    {
     "name": "stdout",
     "output_type": "stream",
     "text": [
      "\n",
      "\n",
      "Recall: 0.8288770053475936\n",
      "Precision: 0.7989690721649485\n",
      "F-Score: 0.8136482939632547\n",
      "--------------------------------------------------\n",
      "\n",
      "\n",
      "Labels - https___doi.org_10.1093_ehr_cead107.xlsx\n"
     ]
    },
    {
     "name": "stderr",
     "output_type": "stream",
     "text": [
      " 97%|█████████▋| 120/124 [01:24<00:02,  1.77it/s]Entry type thesis not standard. Not considered.\n",
      "100%|██████████| 124/124 [01:27<00:00,  1.42it/s]\n"
     ]
    },
    {
     "name": "stdout",
     "output_type": "stream",
     "text": [
      "\n",
      "\n",
      "Recall: 0.6958762886597938\n",
      "Precision: 0.6887755102040817\n",
      "F-Score: 0.6923076923076924\n",
      "--------------------------------------------------\n",
      "\n",
      "\n",
      "Labels - https___doi.org_10.1093_ehr_cead080.xlsx\n"
     ]
    },
    {
     "name": "stderr",
     "output_type": "stream",
     "text": [
      "100%|██████████| 133/133 [01:16<00:00,  1.75it/s]\n"
     ]
    },
    {
     "name": "stdout",
     "output_type": "stream",
     "text": [
      "\n",
      "\n",
      "Recall: 0.8852459016393442\n",
      "Precision: 0.8901098901098901\n",
      "F-Score: 0.8876712328767122\n",
      "--------------------------------------------------\n",
      "\n",
      "\n",
      "Labels - https___doi.org_10.1093_ehr_ceac260.xlsx\n"
     ]
    },
    {
     "name": "stderr",
     "output_type": "stream",
     "text": [
      "  7%|▋         | 12/175 [00:09<01:57,  1.38it/s]Entry type thesis not standard. Not considered.\n",
      " 99%|█████████▉| 174/175 [01:41<00:00,  2.40it/s]Entry type webpage not standard. Not considered.\n",
      "100%|██████████| 175/175 [01:41<00:00,  1.72it/s]\n"
     ]
    },
    {
     "name": "stdout",
     "output_type": "stream",
     "text": [
      "\n",
      "\n",
      "Recall: 0.6266666666666667\n",
      "Precision: 0.6322869955156951\n",
      "F-Score: 0.6294642857142858\n",
      "--------------------------------------------------\n",
      "\n",
      "\n",
      "Labels - https___doi.org_10.1093_ehr_cead065.xlsx\n"
     ]
    },
    {
     "name": "stderr",
     "output_type": "stream",
     "text": [
      "100%|██████████| 142/142 [01:41<00:00,  1.40it/s]\n"
     ]
    },
    {
     "name": "stdout",
     "output_type": "stream",
     "text": [
      "\n",
      "\n",
      "Recall: 0.7644628099173554\n",
      "Precision: 0.8295964125560538\n",
      "F-Score: 0.7956989247311829\n",
      "--------------------------------------------------\n",
      "\n",
      "\n",
      "Labels - https___doi.org_10.1093_ehr_cead004.xlsx\n"
     ]
    },
    {
     "name": "stderr",
     "output_type": "stream",
     "text": [
      "100%|██████████| 171/171 [01:22<00:00,  2.08it/s]\n"
     ]
    },
    {
     "name": "stdout",
     "output_type": "stream",
     "text": [
      "\n",
      "\n",
      "Recall: 0.8910891089108911\n",
      "Precision: 0.8294930875576036\n",
      "F-Score: 0.8591885441527447\n",
      "--------------------------------------------------\n",
      "\n",
      "\n",
      "Labels - https___doi.org_10.1093_ehr_cead103.xlsx\n"
     ]
    },
    {
     "name": "stderr",
     "output_type": "stream",
     "text": [
      "  5%|▌         | 6/115 [00:04<01:58,  1.08s/it]Entry type webpage not standard. Not considered.\n",
      " 21%|██        | 24/115 [00:19<01:10,  1.29it/s]Entry type thesis not standard. Not considered.\n",
      "Entry type thesis not standard. Not considered.\n",
      " 26%|██▌       | 30/115 [00:28<01:15,  1.13it/s]Entry type thesis not standard. Not considered.\n",
      "100%|██████████| 115/115 [01:25<00:00,  1.34it/s]\n"
     ]
    },
    {
     "name": "stdout",
     "output_type": "stream",
     "text": [
      "\n",
      "\n",
      "Recall: 0.766497461928934\n",
      "Precision: 0.7512437810945274\n",
      "F-Score: 0.7587939698492462\n",
      "--------------------------------------------------\n",
      "\n",
      "\n",
      "Labels - https___doi.org_10.1093_ehr_ceab280.xlsx\n"
     ]
    },
    {
     "name": "stderr",
     "output_type": "stream",
     "text": [
      " 21%|██        | 21/100 [00:11<00:41,  1.90it/s]Entry type patent not standard. Not considered.\n",
      "100%|██████████| 100/100 [00:52<00:00,  1.91it/s]"
     ]
    },
    {
     "name": "stdout",
     "output_type": "stream",
     "text": [
      "\n",
      "\n",
      "Recall: 0.6890756302521008\n",
      "Precision: 0.34893617021276596\n",
      "F-Score: 0.46327683615819204\n",
      "--------------------------------------------------\n"
     ]
    },
    {
     "name": "stderr",
     "output_type": "stream",
     "text": [
      "\n"
     ]
    }
   ],
   "source": [
    "path_annotations = \"../data/annotated\"\n",
    "scores = {\"exact\": {}, \"similarity\": {}}\n",
    "\n",
    "for filename in os.listdir(path_annotations):\n",
    "    print(filename)\n",
    "    title_json = file_finder(filename)\n",
    "    df = load_annotations(filename)\n",
    "    triplets = df_to_triplets(df, format_author=True)\n",
    "    extraction = information_extraction(title_json)\n",
    "    recall, precision, f_score = evaluate_extraction(triplets, extraction, threshold=0.9)\n",
    "    exact_recall, exact_precision, exact_f_score = calculate_scores(triplets, extraction)\n",
    "    scores[\"similarity\"][filename] = {\"recall\": recall, \"precision\": precision, \"f_score\": f_score}\n",
    "    scores[\"exact\"][filename] = {\"recall\": exact_recall, \"precision\": exact_precision, \"f_score\": exact_f_score}\n",
    "    print(\"\\n\")\n",
    "    print(f\"Recall: {recall}\")\n",
    "    print(f\"Precision: {precision}\")\n",
    "    print(f\"F-Score: {f_score}\")\n",
    "    print(\"-\"* 50)\n",
    "    print(\"\\n\")\n",
    "    #break\n",
    "\n",
    "evaluation[\"anystyle\"] = scores "
   ]
  },
  {
   "cell_type": "code",
   "execution_count": 15,
   "id": "d9a498f4",
   "metadata": {},
   "outputs": [
    {
     "data": {
      "text/plain": [
       "{'anystyle': {'exact': {'Labels - https___doi.org_10.1093_ehr_cew052.xlsx': {'recall': 0.25773195876288657,\n",
       "    'precision': 0.26737967914438504,\n",
       "    'f_score': 0.2624671916010499},\n",
       "   'Labels - https___doi.org_10.1093_ehr_cead107.xlsx': {'recall': 0.12244897959183673,\n",
       "    'precision': 0.12371134020618557,\n",
       "    'f_score': 0.12307692307692308},\n",
       "   'Labels - https___doi.org_10.1093_ehr_cead080.xlsx': {'recall': 0.2087912087912088,\n",
       "    'precision': 0.20765027322404372,\n",
       "    'f_score': 0.20821917808219176},\n",
       "   'Labels - https___doi.org_10.1093_ehr_ceac260.xlsx': {'recall': 0.16143497757847533,\n",
       "    'precision': 0.16,\n",
       "    'f_score': 0.16071428571428573},\n",
       "   'Labels - https___doi.org_10.1093_ehr_cead065.xlsx': {'recall': 0.16143497757847533,\n",
       "    'precision': 0.1487603305785124,\n",
       "    'f_score': 0.15483870967741936},\n",
       "   'Labels - https___doi.org_10.1093_ehr_cead004.xlsx': {'recall': 0.2903225806451613,\n",
       "    'precision': 0.3118811881188119,\n",
       "    'f_score': 0.30071599045346065},\n",
       "   'Labels - https___doi.org_10.1093_ehr_cead103.xlsx': {'recall': 0.2885572139303483,\n",
       "    'precision': 0.29441624365482233,\n",
       "    'f_score': 0.29145728643216084},\n",
       "   'Labels - https___doi.org_10.1093_ehr_ceab280.xlsx': {'recall': 0.09787234042553192,\n",
       "    'precision': 0.19327731092436976,\n",
       "    'f_score': 0.12994350282485878}},\n",
       "  'similarity': {'Labels - https___doi.org_10.1093_ehr_cew052.xlsx': {'recall': 0.8288770053475936,\n",
       "    'precision': 0.7989690721649485,\n",
       "    'f_score': 0.8136482939632547},\n",
       "   'Labels - https___doi.org_10.1093_ehr_cead107.xlsx': {'recall': 0.6958762886597938,\n",
       "    'precision': 0.6887755102040817,\n",
       "    'f_score': 0.6923076923076924},\n",
       "   'Labels - https___doi.org_10.1093_ehr_cead080.xlsx': {'recall': 0.8852459016393442,\n",
       "    'precision': 0.8901098901098901,\n",
       "    'f_score': 0.8876712328767122},\n",
       "   'Labels - https___doi.org_10.1093_ehr_ceac260.xlsx': {'recall': 0.6266666666666667,\n",
       "    'precision': 0.6322869955156951,\n",
       "    'f_score': 0.6294642857142858},\n",
       "   'Labels - https___doi.org_10.1093_ehr_cead065.xlsx': {'recall': 0.7644628099173554,\n",
       "    'precision': 0.8295964125560538,\n",
       "    'f_score': 0.7956989247311829},\n",
       "   'Labels - https___doi.org_10.1093_ehr_cead004.xlsx': {'recall': 0.8910891089108911,\n",
       "    'precision': 0.8294930875576036,\n",
       "    'f_score': 0.8591885441527447},\n",
       "   'Labels - https___doi.org_10.1093_ehr_cead103.xlsx': {'recall': 0.766497461928934,\n",
       "    'precision': 0.7512437810945274,\n",
       "    'f_score': 0.7587939698492462},\n",
       "   'Labels - https___doi.org_10.1093_ehr_ceab280.xlsx': {'recall': 0.6890756302521008,\n",
       "    'precision': 0.34893617021276596,\n",
       "    'f_score': 0.46327683615819204}}}}"
      ]
     },
     "execution_count": 15,
     "metadata": {},
     "output_type": "execute_result"
    }
   ],
   "source": [
    "evaluation"
   ]
  },
  {
   "cell_type": "code",
   "execution_count": 17,
   "id": "405d373e",
   "metadata": {},
   "outputs": [
    {
     "name": "stdout",
     "output_type": "stream",
     "text": [
      "Labels - https___doi.org_10.1093_ehr_cew052.xlsx\n"
     ]
    },
    {
     "name": "stderr",
     "output_type": "stream",
     "text": [
      "  0%|          | 0/148 [00:00<?, ?it/s]"
     ]
    },
    {
     "name": "stderr",
     "output_type": "stream",
     "text": [
      "100%|██████████| 148/148 [00:00<00:00, 176401.53it/s]\n"
     ]
    },
    {
     "name": "stdout",
     "output_type": "stream",
     "text": [
      "\n",
      "\n",
      "Recall: 0.7613636363636364\n",
      "Precision: 0.6907216494845361\n",
      "F-Score: 0.7243243243243243\n",
      "--------------------------------------------------\n",
      "\n",
      "\n",
      "Labels - https___doi.org_10.1093_ehr_cead107.xlsx\n"
     ]
    },
    {
     "name": "stderr",
     "output_type": "stream",
     "text": [
      "100%|██████████| 124/124 [00:00<00:00, 63041.66it/s]\n"
     ]
    },
    {
     "name": "stdout",
     "output_type": "stream",
     "text": [
      "\n",
      "\n",
      "Recall: 0.8430232558139535\n",
      "Precision: 0.7397959183673469\n",
      "F-Score: 0.7880434782608696\n",
      "--------------------------------------------------\n",
      "\n",
      "\n",
      "Labels - https___doi.org_10.1093_ehr_cead080.xlsx\n"
     ]
    },
    {
     "name": "stderr",
     "output_type": "stream",
     "text": [
      "100%|██████████| 133/133 [00:00<00:00, 194370.19it/s]\n"
     ]
    },
    {
     "name": "stdout",
     "output_type": "stream",
     "text": [
      "\n",
      "\n",
      "Recall: 0.8876404494382022\n",
      "Precision: 0.8681318681318682\n",
      "F-Score: 0.8777777777777778\n",
      "--------------------------------------------------\n",
      "\n",
      "\n",
      "Labels - https___doi.org_10.1093_ehr_ceac260.xlsx\n"
     ]
    },
    {
     "name": "stderr",
     "output_type": "stream",
     "text": [
      "100%|██████████| 175/175 [00:00<00:00, 175724.97it/s]"
     ]
    },
    {
     "name": "stdout",
     "output_type": "stream",
     "text": [
      "\n",
      "\n",
      "Recall: 0.8270042194092827\n",
      "Precision: 0.8789237668161435\n",
      "F-Score: 0.8521739130434782\n",
      "--------------------------------------------------\n",
      "\n",
      "\n",
      "Labels - https___doi.org_10.1093_ehr_cead065.xlsx\n"
     ]
    },
    {
     "name": "stderr",
     "output_type": "stream",
     "text": [
      "\n",
      "100%|██████████| 142/142 [00:00<00:00, 184622.18it/s]\n"
     ]
    },
    {
     "name": "stdout",
     "output_type": "stream",
     "text": [
      "\n",
      "\n",
      "Recall: 0.8325581395348837\n",
      "Precision: 0.8026905829596412\n",
      "F-Score: 0.817351598173516\n",
      "--------------------------------------------------\n",
      "\n",
      "\n",
      "Labels - https___doi.org_10.1093_ehr_cead004.xlsx\n"
     ]
    },
    {
     "name": "stderr",
     "output_type": "stream",
     "text": [
      "100%|██████████| 171/171 [00:00<00:00, 224343.44it/s]\n"
     ]
    },
    {
     "name": "stdout",
     "output_type": "stream",
     "text": [
      "\n",
      "\n",
      "Recall: 0.9947643979057592\n",
      "Precision: 0.8755760368663594\n",
      "F-Score: 0.9313725490196079\n",
      "--------------------------------------------------\n",
      "\n",
      "\n",
      "Labels - https___doi.org_10.1093_ehr_cead103.xlsx\n"
     ]
    },
    {
     "name": "stderr",
     "output_type": "stream",
     "text": [
      "100%|██████████| 115/115 [00:00<00:00, 129245.70it/s]\n"
     ]
    },
    {
     "name": "stdout",
     "output_type": "stream",
     "text": [
      "\n",
      "\n",
      "Recall: 0.8212290502793296\n",
      "Precision: 0.7313432835820896\n",
      "F-Score: 0.7736842105263159\n",
      "--------------------------------------------------\n",
      "\n",
      "\n",
      "Labels - https___doi.org_10.1093_ehr_ceab280.xlsx\n"
     ]
    },
    {
     "name": "stderr",
     "output_type": "stream",
     "text": [
      "100%|██████████| 100/100 [00:00<00:00, 178557.00it/s]\n"
     ]
    },
    {
     "name": "stdout",
     "output_type": "stream",
     "text": [
      "\n",
      "\n",
      "Recall: 0.8145161290322581\n",
      "Precision: 0.4297872340425532\n",
      "F-Score: 0.5626740947075209\n",
      "--------------------------------------------------\n"
     ]
    }
   ],
   "source": [
    "path_annotations = \"../data/annotated\"\n",
    "\n",
    "scores = {\"exact\": {}, \"similarity\": {}}\n",
    "\n",
    "for filename in os.listdir(path_annotations):\n",
    "    print(filename)\n",
    "    title_json = file_finder(filename)\n",
    "    df = load_annotations(filename)\n",
    "    triplets = df_to_triplets(df, format_author=False)\n",
    "    extraction = extract_citations(title_json)\n",
    "    recall, precision, f_score = evaluate_extraction(triplets, extraction, threshold=0.9)\n",
    "    exact_recall, exact_precision, exact_f_score = calculate_scores(triplets, extraction)\n",
    "    scores[\"similarity\"][filename] = {\"recall\": recall, \"precision\": precision, \"f_score\": f_score}\n",
    "    scores[\"exact\"][filename] = {\"recall\": exact_recall, \"precision\": exact_precision, \"f_score\": exact_f_score}\n",
    "    print(\"\\n\")\n",
    "    print(f\"Recall: {recall}\")\n",
    "    print(f\"Precision: {precision}\")\n",
    "    print(f\"F-Score: {f_score}\")\n",
    "    print(\"-\"* 50)\n",
    "    print(\"\\n\")\n",
    "\n",
    "evaluation[\"regex\"] = scores"
   ]
  },
  {
   "cell_type": "code",
   "execution_count": 19,
   "id": "ac22b8ca",
   "metadata": {
    "ExecuteTime": {
     "end_time": "2023-12-30T19:01:30.889467233Z",
     "start_time": "2023-12-30T19:01:21.843065829Z"
    }
   },
   "outputs": [
    {
     "name": "stdout",
     "output_type": "stream",
     "text": [
      "2024-01-06 15:32:53,177 SequenceTagger predicts: Dictionary with 76 tags: <unk>, O, B-CARDINAL, E-CARDINAL, S-PERSON, S-CARDINAL, S-PRODUCT, B-PRODUCT, I-PRODUCT, E-PRODUCT, B-WORK_OF_ART, I-WORK_OF_ART, E-WORK_OF_ART, B-PERSON, E-PERSON, S-GPE, B-DATE, I-DATE, E-DATE, S-ORDINAL, S-LANGUAGE, I-PERSON, S-EVENT, S-DATE, B-QUANTITY, E-QUANTITY, S-TIME, B-TIME, I-TIME, E-TIME, B-GPE, E-GPE, S-ORG, I-GPE, S-NORP, B-FAC, I-FAC, E-FAC, B-NORP, E-NORP, S-PERCENT, B-ORG, E-ORG, B-LANGUAGE, E-LANGUAGE, I-CARDINAL, I-ORG, S-WORK_OF_ART, I-QUANTITY, B-MONEY\n",
      "Labels - https___doi.org_10.1093_ehr_cew052.xlsx\n"
     ]
    },
    {
     "name": "stderr",
     "output_type": "stream",
     "text": [
      "100%|██████████| 148/148 [00:22<00:00,  6.71it/s]\n"
     ]
    },
    {
     "name": "stdout",
     "output_type": "stream",
     "text": [
      "\n",
      "\n",
      "Recall: 0.7962085308056872\n",
      "Precision: 0.865979381443299\n",
      "F-Score: 0.8296296296296297\n",
      "--------------------------------------------------\n",
      "\n",
      "\n",
      "Labels - https___doi.org_10.1093_ehr_cead107.xlsx\n"
     ]
    },
    {
     "name": "stderr",
     "output_type": "stream",
     "text": [
      "100%|██████████| 124/124 [00:27<00:00,  4.53it/s]\n"
     ]
    },
    {
     "name": "stdout",
     "output_type": "stream",
     "text": [
      "\n",
      "\n",
      "Recall: 0.7055837563451777\n",
      "Precision: 0.7091836734693877\n",
      "F-Score: 0.707379134860051\n",
      "--------------------------------------------------\n",
      "\n",
      "\n",
      "Labels - https___doi.org_10.1093_ehr_cead080.xlsx\n"
     ]
    },
    {
     "name": "stderr",
     "output_type": "stream",
     "text": [
      "100%|██████████| 133/133 [00:21<00:00,  6.17it/s]\n"
     ]
    },
    {
     "name": "stdout",
     "output_type": "stream",
     "text": [
      "\n",
      "\n",
      "Recall: 0.8323699421965318\n",
      "Precision: 0.7912087912087912\n",
      "F-Score: 0.8112676056338028\n",
      "--------------------------------------------------\n",
      "\n",
      "\n",
      "Labels - https___doi.org_10.1093_ehr_ceac260.xlsx\n"
     ]
    },
    {
     "name": "stderr",
     "output_type": "stream",
     "text": [
      "100%|██████████| 175/175 [00:33<00:00,  5.29it/s]\n"
     ]
    },
    {
     "name": "stdout",
     "output_type": "stream",
     "text": [
      "\n",
      "\n",
      "Recall: 0.6890243902439024\n",
      "Precision: 0.5067264573991032\n",
      "F-Score: 0.5839793281653748\n",
      "--------------------------------------------------\n",
      "\n",
      "\n",
      "Labels - https___doi.org_10.1093_ehr_cead065.xlsx\n"
     ]
    },
    {
     "name": "stderr",
     "output_type": "stream",
     "text": [
      "100%|██████████| 142/142 [00:27<00:00,  5.10it/s]\n"
     ]
    },
    {
     "name": "stdout",
     "output_type": "stream",
     "text": [
      "\n",
      "\n",
      "Recall: 0.8031088082901554\n",
      "Precision: 0.695067264573991\n",
      "F-Score: 0.7451923076923076\n",
      "--------------------------------------------------\n",
      "\n",
      "\n",
      "Labels - https___doi.org_10.1093_ehr_cead004.xlsx\n"
     ]
    },
    {
     "name": "stderr",
     "output_type": "stream",
     "text": [
      "100%|██████████| 171/171 [00:27<00:00,  6.28it/s]\n"
     ]
    },
    {
     "name": "stdout",
     "output_type": "stream",
     "text": [
      "\n",
      "\n",
      "Recall: 0.7675675675675676\n",
      "Precision: 0.6543778801843319\n",
      "F-Score: 0.7064676616915423\n",
      "--------------------------------------------------\n",
      "\n",
      "\n",
      "Labels - https___doi.org_10.1093_ehr_cead103.xlsx\n"
     ]
    },
    {
     "name": "stderr",
     "output_type": "stream",
     "text": [
      "100%|██████████| 115/115 [00:25<00:00,  4.59it/s]\n"
     ]
    },
    {
     "name": "stdout",
     "output_type": "stream",
     "text": [
      "\n",
      "\n",
      "Recall: 0.695906432748538\n",
      "Precision: 0.5920398009950248\n",
      "F-Score: 0.6397849462365591\n",
      "--------------------------------------------------\n",
      "\n",
      "\n",
      "Labels - https___doi.org_10.1093_ehr_ceab280.xlsx\n"
     ]
    },
    {
     "name": "stderr",
     "output_type": "stream",
     "text": [
      "100%|██████████| 100/100 [00:17<00:00,  5.56it/s]"
     ]
    },
    {
     "name": "stdout",
     "output_type": "stream",
     "text": [
      "\n",
      "\n",
      "Recall: 0.6783216783216783\n",
      "Precision: 0.4127659574468085\n",
      "F-Score: 0.5132275132275133\n",
      "--------------------------------------------------\n"
     ]
    },
    {
     "name": "stderr",
     "output_type": "stream",
     "text": [
      "\n"
     ]
    }
   ],
   "source": [
    "path_annotations = \"../data/annotated\"\n",
    "# load the NER tagger\n",
    "tagger = Classifier.load('ner-ontonotes-large')\n",
    "\n",
    "scores = {\"exact\": {}, \"similarity\": {}}\n",
    "\n",
    "for filename in os.listdir(path_annotations):\n",
    "    print(filename)\n",
    "    title_json = file_finder(filename)\n",
    "    df = load_annotations(filename)\n",
    "    triplets = df_to_triplets(df, format_author=False)\n",
    "    extraction = tagger_information_extraction(title_json, tagger=tagger)\n",
    "    recall, precision, f_score = evaluate_extraction(triplets, extraction, threshold=0.9)\n",
    "    exact_recall, exact_precision, exact_f_score = calculate_scores(triplets, extraction)\n",
    "    scores[\"similarity\"][filename] = {\"recall\": recall, \"precision\": precision, \"f_score\": f_score}\n",
    "    scores[\"exact\"][filename] = {\"recall\": exact_recall, \"precision\": exact_precision, \"f_score\": exact_f_score}\n",
    "    print(\"\\n\")\n",
    "    print(f\"Recall: {recall}\")\n",
    "    print(f\"Precision: {precision}\")\n",
    "    print(f\"F-Score: {f_score}\")\n",
    "    print(\"-\"* 50)\n",
    "    print(\"\\n\")\n",
    "\n",
    "evaluation[\"tagger\"] = scores"
   ]
  },
  {
   "cell_type": "code",
   "execution_count": 20,
   "id": "ff1b7bed",
   "metadata": {},
   "outputs": [
    {
     "data": {
      "image/png": "[encoded data removed]",
      "text/plain": [
       "<Figure size 1200x400 with 3 Axes>"
      ]
     },
     "metadata": {},
     "output_type": "display_data"
    }
   ],
   "source": [
    "import numpy as np\n",
    "import matplotlib.pyplot as plt\n",
    "\n",
    "approaches = [\"anystyle\", \"regex\", \"tagger\"]\n",
    "\n",
    "fig, axs = plt.subplots(1, 3, figsize=(12, 4), sharey=True)\n",
    "\n",
    "for i, approach in enumerate(approaches):\n",
    "    exact_scores = evaluation[approach][\"exact\"]\n",
    "    similarity_scores = evaluation[approach][\"similarity\"]\n",
    "    \n",
    "    filenames = exact_scores.keys()\n",
    "    \n",
    "    f_scores_exact = [exact_scores[filename][\"f_score\"] for filename in filenames]\n",
    "    f_scores_similarity = [similarity_scores[filename][\"f_score\"] for filename in filenames]\n",
    "        \n",
    "    median_f_score_exact = np.median(f_scores_exact)\n",
    "    median_f_score_similarity = np.median(f_scores_similarity)\n",
    "    \n",
    "    axs[i].scatter([\"exact\"] * len(f_scores_exact), f_scores_exact, label=\"exact\")\n",
    "    axs[i].scatter([\"similarity\"] * len(f_scores_similarity), f_scores_similarity, label=\"similarity\")\n",
    "    \n",
    "    axs[i].scatter([\"exact\"], median_f_score_exact, color=\"red\")\n",
    "    axs[i].scatter([\"similarity\"], median_f_score_similarity, color=\"red\")\n",
    "    \n",
    "    axs[i].axhline(median_f_score_exact, color=\"red\", linestyle=\"--\")\n",
    "    axs[i].axhline(median_f_score_similarity, color=\"red\", linestyle=\"--\")\n",
    "    \n",
    "    axs[i].text(0.5, median_f_score_exact - 0.04, f\"{median_f_score_exact:.2f}\", ha=\"center\", va=\"bottom\", color=\"red\", fontsize=8)\n",
    "    axs[i].text(0.5, median_f_score_similarity - 0.04, f\"{median_f_score_similarity:.2f}\", ha=\"center\", va=\"bottom\", color=\"red\", fontsize=8)\n",
    "\n",
    "    axs[i].set_title(approach)\n",
    "    axs[i].set_xlabel(\"Scoring Method\")\n",
    "    axs[i].set_ylabel(\"F-Score\")\n",
    "    axs[i].legend()\n",
    "\n",
    "plt.tight_layout(pad=0.5)\n",
    "plt.show()\n"
   ]
  },
  {
   "cell_type": "code",
   "execution_count": null,
   "id": "11f4a169",
   "metadata": {},
   "outputs": [],
   "source": []
  }
 ],
 "metadata": {
  "kernelspec": {
   "display_name": "Python 3",
   "language": "python",
   "name": "python3"
  },
  "language_info": {
   "codemirror_mode": {
    "name": "ipython",
    "version": 3
   },
   "file_extension": ".py",
   "mimetype": "text/x-python",
   "name": "python",
   "nbconvert_exporter": "python",
   "pygments_lexer": "ipython3",
   "version": "3.10.12"
  }
 },
 "nbformat": 4,
 "nbformat_minor": 5
}
