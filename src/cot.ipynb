{
 "cells": [
  {
   "cell_type": "code",
   "execution_count": 4,
   "metadata": {},
   "outputs": [],
   "source": [
    "import matplotlib.pyplot as plt\n",
    "import numpy as np\n",
    "import pandas as pd\n",
    "from utils import create_data, get_completion_from_messages"
   ]
  },
  {
   "cell_type": "code",
   "execution_count": 11,
   "metadata": {},
   "outputs": [],
   "source": [
    "df_dict = create_data(50, 20)\n",
    "data_keys = list(df_dict.keys())"
   ]
  },
  {
   "cell_type": "code",
   "execution_count": 5,
   "metadata": {},
   "outputs": [],
   "source": [
    "system_message = \"\"\"\n",
    "    You are an expert in analyzing citations from historical papers. It is your job \n",
    "    to determine if the author makes a statement about the quality of the work or just \n",
    "    uses it for the purpose of information reproduction.\n",
    "    \"\"\""
   ]
  },
  {
   "cell_type": "code",
   "execution_count": 20,
   "metadata": {},
   "outputs": [],
   "source": [
    "def context_sentiment(context: str) -> str:\n",
    "    system_message = \"\"\"\n",
    "        You are an expert in analyzing citations from historical papers. It is your job \n",
    "        to determine if the author makes a statement about the quality of the work or just \n",
    "        uses it for the purpose of information reproduction.\n",
    "        \"\"\"\n",
    "    prompt = f\"\"\"\n",
    "    You will receive the name of the author of the cited source and the context \n",
    "    of the citation.  \n",
    "\n",
    "    The data will be submitted in the following format:\n",
    "    #######################Begin format instructions####################################\n",
    "    context: The context of the citation, the citation is annotated with this \"[CITATION-footnotenumber]\" special token\n",
    "    #######################End format instructions#################################\n",
    "    Ask for each sentence that is included in the analysis:\n",
    "    - Does the author make a judgemental statement about the quality of a  cited source?\n",
    "    - Does the author rate the quality of the work in a positive or negative mannser?\n",
    "    - Does the author make a judgemental statement about the authors of the cited source?\n",
    "    - Does the author cite the work/its author in a critical manner?\n",
    "    - Are the words \"historian\" or \"scholar\" used in conjunction with the cited source?\n",
    "    Keywords of sentences which make a statement about the quality of the work are:\n",
    "    - better, failed, argue, however, convincingy, nuanced, vague, fail, overlook, simplification\n",
    "    If one of these questions is to be answered with yes, the author makes a statement about the quality of the work.\n",
    "    \n",
    "    A citation reproduces information if it does not make a statement about the quality of the cited work!\n",
    "\n",
    "    Return 1 if the author makes a statement about the quality of the work else 0.\n",
    "    Only return integers 0 and 1, nothing else.\n",
    "    #################Begin data##################################\n",
    "    context: {context}\n",
    "    ###############End data#########################################\n",
    "    Your answer: Enter integer here\n",
    "    \"\"\"\n",
    "    messages = [\n",
    "        {\"role\": \"system\", \"content\": system_message},\n",
    "        {\"role\": \"user\", \"content\": prompt},\n",
    "    ]\n",
    "    prediction = get_completion_from_messages(messages)\n",
    "    return prediction"
   ]
  },
  {
   "cell_type": "code",
   "execution_count": 21,
   "metadata": {},
   "outputs": [
    {
     "name": "stdout",
     "output_type": "stream",
     "text": [
      "['0', '0', '0', '0', '0']\n",
      "['0', '0', '0', '0', '0']\n",
      "['0', '0', '0', '0', '0']\n",
      "['0', '0', '0', '0', '0']\n",
      "['0', '0', '0', '0', '0']\n",
      "['0', '0', '0', '0', '0']\n",
      "['0', '0', '0', '0', '0']\n",
      "['0', '0', '0', '0', '0']\n"
     ]
    }
   ],
   "source": [
    "\n",
    "for i in range(len(data_keys)):\n",
    "    df = df_dict[data_keys[i]][11:16]\n",
    "\n",
    "    predictions = []\n",
    "    for i in range(len(df)):\n",
    "        name = df[\"Authors\"].iloc[i]\n",
    "        context = df[\"context\"].iloc[i]\n",
    "\n",
    "        pred = context_sentiment(name, context)\n",
    "        predictions.append(pred)\n",
    "    print(predictions)"
   ]
  },
  {
   "cell_type": "code",
   "execution_count": null,
   "metadata": {},
   "outputs": [],
   "source": []
  }
 ],
 "metadata": {
  "kernelspec": {
   "display_name": "venv",
   "language": "python",
   "name": "python3"
  },
  "language_info": {
   "codemirror_mode": {
    "name": "ipython",
    "version": 3
   },
   "file_extension": ".py",
   "mimetype": "text/x-python",
   "name": "python",
   "nbconvert_exporter": "python",
   "pygments_lexer": "ipython3",
   "version": "3.10.12"
  }
 },
 "nbformat": 4,
 "nbformat_minor": 2
}
