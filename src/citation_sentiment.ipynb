{
 "cells": [
  {
   "cell_type": "code",
   "execution_count": 54,
   "metadata": {},
   "outputs": [],
   "source": [
    "import matplotlib.pyplot as plt\n",
    "import numpy as np\n",
    "import pandas as pd\n",
    "from sklearn.metrics import f1_score\n",
    "from utils import create_data, zero_shot"
   ]
  },
  {
   "cell_type": "markdown",
   "metadata": {},
   "source": [
    "Accuracies on 50, 20: opinionated: 0.5; neutral: 0.75 <br>\n",
    "70, 30: opinionated: 0.57; neutral: 0.75 <br>\n",
    "70, 10: opinionated: 0.5; neutral: 0.72 <br>\n",
    "30, 20: opinionated: 0.44; neutral: 0.78"
   ]
  },
  {
   "cell_type": "code",
   "execution_count": 27,
   "metadata": {},
   "outputs": [],
   "source": [
    "df_dict = create_data(70, 30)"
   ]
  },
  {
   "cell_type": "code",
   "execution_count": 28,
   "metadata": {},
   "outputs": [],
   "source": [
    "def filter_label(dataframes_dict: dict[pd.DataFrame], label: int) -> pd.DataFrame:\n",
    "    # Create an empty list to store filtered DataFrames\n",
    "    filtered_dataframes = []\n",
    "    \n",
    "    for key, df in dataframes_dict.items():\n",
    "        if 'Label' in df.columns:\n",
    "            filtered_df = df[df['Label'] == label]\n",
    "            \n",
    "            filtered_dataframes.append(filtered_df)\n",
    "    \n",
    "    result_df = pd.concat(filtered_dataframes, ignore_index=True)\n",
    "    \n",
    "    return result_df\n",
    "\n",
    "def sample_data(dataframe):\n",
    "    sampled_df = dataframe.sample(n=100, random_state=42) \n",
    "    return sampled_df\n",
    "\n",
    "\n",
    "\n",
    "opinionated_data = filter_label(df_dict, 1)\n",
    "neutral_data = sample_data(filter_label(df_dict, 0))"
   ]
  },
  {
   "cell_type": "code",
   "execution_count": 30,
   "metadata": {},
   "outputs": [],
   "source": [
    "df = pd.concat([opinionated_data, neutral_data], ignore_index=True)"
   ]
  },
  {
   "cell_type": "code",
   "execution_count": 63,
   "metadata": {},
   "outputs": [],
   "source": [
    "def get_precictions(df):\n",
    "    predictions = []\n",
    "    for i in range(len(df)):\n",
    "        name = df[\"Authors\"].iloc[i]\n",
    "        title = df[\"Title\"].iloc[i]\n",
    "        context = df[\"context\"].iloc[i]\n",
    "        footnote = df[\"footnote_text\"].iloc[i]\n",
    "        #pred = context_sentiment(context)\n",
    "        pred = zero_shot(name, title, context,footnote)\n",
    "        predictions.append(pred)\n",
    "        predictions = [int(i) for i in predictions]\n",
    "    return predictions\n",
    "predictions = get_precictions(df)"
   ]
  },
  {
   "cell_type": "code",
   "execution_count": 82,
   "metadata": {},
   "outputs": [
    {
     "name": "stdout",
     "output_type": "stream",
     "text": [
      "Results for 70 tokens as preceeding and 30 tokens as succeeding context:\n",
      "F1 score: 0.6067415730337078\n",
      "Accuracy for label 0: 0.75\n",
      "Accuracy for label 1: 0.54\n"
     ]
    }
   ],
   "source": [
    "labels = df[\"Label\"].tolist()\n",
    "\n",
    "def calculate_accuracy_per_label(predictions, labels, label_value):\n",
    "    # Create a boolean array indicating whether the label matches the specified value\n",
    "    label_matches = [l == label_value for l in labels]\n",
    "  \n",
    "    # Extract predictions for instances where the label matches the specified value\n",
    "    matched_predictions = [p for i, p in enumerate(predictions) if label_matches[i]]\n",
    "        \n",
    "    return sum(matched_predictions)/100 if label_value == 1 else (len(matched_predictions) - sum(matched_predictions))/100\n",
    "   \n",
    "f1 = f1_score(predictions, labels)\n",
    "accuracy_label_0 = calculate_accuracy_per_label(predictions, labels, label_value=0)\n",
    "accuracy_label_1 = calculate_accuracy_per_label(predictions, labels, label_value=1)\n",
    "\n",
    "print(\"Results for 70 tokens as preceeding and 30 tokens as succeeding context:\")\n",
    "print(\"F1 score:\", f1)\n",
    "print(\"Accuracy for label 0:\", accuracy_label_0)\n",
    "print(\"Accuracy for label 1:\", accuracy_label_1)"
   ]
  },
  {
   "cell_type": "code",
   "execution_count": null,
   "metadata": {},
   "outputs": [],
   "source": []
  }
 ],
 "metadata": {
  "kernelspec": {
   "display_name": "venv",
   "language": "python",
   "name": "python3"
  },
  "language_info": {
   "codemirror_mode": {
    "name": "ipython",
    "version": 3
   },
   "file_extension": ".py",
   "mimetype": "text/x-python",
   "name": "python",
   "nbconvert_exporter": "python",
   "pygments_lexer": "ipython3",
   "version": "3.10.12"
  }
 },
 "nbformat": 4,
 "nbformat_minor": 2
}
