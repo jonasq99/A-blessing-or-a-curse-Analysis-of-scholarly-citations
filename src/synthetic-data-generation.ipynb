{
 "cells": [
  {
   "cell_type": "code",
   "outputs": [],
   "source": [
    "import os.path\n",
    "\n",
    "from utils import get_completion_from_messages\n",
    "from text_extraction import TextExtraction\n",
    "from synthetic_data_generation import create_opinionated\n",
    "import json\n",
    "\n",
    "import pandas as pd\n",
    "\n",
    "from tqdm import tqdm"
   ],
   "metadata": {
    "collapsed": false,
    "ExecuteTime": {
     "end_time": "2024-02-04T15:35:07.028659868Z",
     "start_time": "2024-02-04T15:35:05.949096400Z"
    }
   },
   "id": "fd6657d863b0f34e",
   "execution_count": 1
  },
  {
   "cell_type": "markdown",
   "source": [
    "# TODOS\n",
    "1. select some random json files from the all_data_articles\n",
    "2. extract the context fro each of the citation in the text\n",
    "3. change the context to opinionated with open ai"
   ],
   "metadata": {
    "collapsed": false
   },
   "id": "9d95af79bb04e120"
  },
  {
   "cell_type": "code",
   "outputs": [
    {
     "name": "stderr",
     "output_type": "stream",
     "text": [
      "100%|██████████| 135/135 [14:02<00:00,  6.24s/it]\n"
     ]
    }
   ],
   "source": [
    "filename = \"A_Colonial_Celebrity_in_the_New_Attention_Economy_Cecil_Rhodess_Cape-to-Cairo_Telegraph_and_Railway_Negotiations_in_1899.json\"\n",
    "\n",
    "filepath = \"../all_data_articles/\"\n",
    "synthetic_filepath = \"../synthetic_data/\"\n",
    "\n",
    "with open(os.path.join(filepath, filename), \"r\", encoding=\"utf-8\") as file:\n",
    "    article_dict = json.load(file)\n",
    "\n",
    "previous_context_tokens = 70\n",
    "following_context_tokens = 30\n",
    "    \n",
    "footnotes = article_dict[\"footnotes\"]\n",
    "\n",
    "text_extractor = TextExtraction(\n",
    "    article_dict,\n",
    "    previous_context_tokens=previous_context_tokens,\n",
    "    following_context_tokens=following_context_tokens,\n",
    "    previous_context_sentences=None,\n",
    "    following_context_sentences=None,\n",
    "    previous_whole_paragraph=False,\n",
    "    following_whole_paragraph=False,\n",
    "    till_previous_citation=None,\n",
    "    till_following_citation=None,\n",
    "    footnote_text=False,\n",
    "    footnote_mask=True,\n",
    ")\n",
    "\n",
    "generated_contexts = []\n",
    "\n",
    "for footnote_number in tqdm(footnotes):\n",
    "    context = text_extractor.generate_context(int(footnote_number))\n",
    "    \n",
    "    context_and_footnote = context + \"\\n\\n\" + \"CITATION:\\n\" + footnotes[footnote_number]\n",
    "    \n",
    "    generated_context = create_opinionated(context_and_footnote)\n",
    "    generated_contexts.append(generated_context)\n",
    "\n",
    "generated_contexts_df = pd.DataFrame(columns=[\"footnote_number\", \"generated_context\", \"footnote_text\", \"label\"])\n",
    "\n",
    "generated_contexts_df[\"footnote_number\"] = footnotes.keys()\n",
    "generated_contexts_df[\"generated_context\"] = generated_contexts\n",
    "generated_contexts_df[\"footnote_text\"] = footnotes.values()\n",
    "generated_contexts_df[\"label\"] = [1] * len(footnotes)\n",
    "\n",
    "generated_contexts_df.to_csv(os.path.join(synthetic_filepath, filename.replace(\".json\", \".csv\")), index=False)"
   ],
   "metadata": {
    "collapsed": false,
    "ExecuteTime": {
     "end_time": "2024-02-04T15:49:09.393611585Z",
     "start_time": "2024-02-04T15:35:07.038116668Z"
    }
   },
   "id": "c01be321d0465670",
   "execution_count": 3
  },
  {
   "cell_type": "code",
   "outputs": [],
   "source": [],
   "metadata": {
    "collapsed": false
   },
   "id": "493d0288524bbb88"
  }
 ],
 "metadata": {
  "kernelspec": {
   "display_name": "Python 3",
   "language": "python",
   "name": "python3"
  },
  "language_info": {
   "codemirror_mode": {
    "name": "ipython",
    "version": 2
   },
   "file_extension": ".py",
   "mimetype": "text/x-python",
   "name": "python",
   "nbconvert_exporter": "python",
   "pygments_lexer": "ipython2",
   "version": "2.7.6"
  }
 },
 "nbformat": 4,
 "nbformat_minor": 5
}
