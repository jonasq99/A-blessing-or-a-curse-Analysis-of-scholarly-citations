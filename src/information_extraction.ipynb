{
 "cells": [
  {
   "cell_type": "code",
   "execution_count": 41,
   "id": "initial_id",
   "metadata": {
    "collapsed": true,
    "ExecuteTime": {
     "end_time": "2023-12-10T16:11:20.151523274Z",
     "start_time": "2023-12-10T16:11:20.109244145Z"
    }
   },
   "outputs": [],
   "source": [
    "import pandas as pd\n",
    "import json\n",
    "import re\n",
    "import os\n",
    "import subprocess\n",
    "import bibtexparser"
   ]
  },
  {
   "cell_type": "code",
   "execution_count": 50,
   "outputs": [
    {
     "name": "stdout",
     "output_type": "stream",
     "text": [
      "{'booktitle': 'Z/1d/85, fo. 1v, summary register documenting the policy on the Amitié', 'date': '1688-08-27', 'title': 'Archives nationales [hereafter AN', 'author': 'Paris', 'ENTRYTYPE': 'incollection', 'ID': 'paris1688a'}\n",
      "{'date': '1689-10-06', 'title': 'fos 4v–6, record of the arbitration dispute between the two companies', 'citation-number': 'Z/1d/84,', 'ENTRYTYPE': 'misc', 'ID': 'unknown1689a'}\n",
      "{'title': 'The key register from the Royal Insurance Company that is used is its arbitration register: AN, Z/1d/84. The key bundle of documents for the Parisian admiralty court is AN, Z/1d/109', 'ENTRYTYPE': 'misc', 'ID': 'unknown-a'}\n",
      "{'note': 'On this renaissance', 'ENTRYTYPE': 'misc', 'ID': 'unknown-a'}\n",
      "{'address': 'Basingstoke', 'booktitle': 'Marine Insurance: Origins and Institutions, 1300–1850', 'date': '2016', 'editor': 'example, A.Leonard', 'ENTRYTYPE': 'incollection', 'ID': 'example2016a'}\n",
      "{'journal': 'European Review of Economic History', 'pages': '1–18', 'date': '2013', 'volume': 'xviii', 'title': 'Governance and Institutional Change in Marine Insurance, 1350–1850’', 'author': 'Kingston, C.', 'ENTRYTYPE': 'article', 'ID': 'kingston2013a'}\n",
      "{'address': 'Paris', 'note': 'I study the Royal Insurance Company in L. Wade, Privilege, Economy and State in Old Regime France: Marine Insurance, War and the Atlantic Empire under Louis XIV (Woodbridge, 2023).', 'pages': '57–66', 'date': '1945', 'title': 'The only semi-extensive treatment of the Royal Insurance Company in the past century has been Louis-Augustin Boiteux’s brief and imbalanced study in L.-A. Boiteux, L’assurance maritime à Paris sous le règne de Louis XIV', 'ENTRYTYPE': 'misc', 'ID': 'unknown1945a'}\n",
      "{'journal': 'Low Countries Journal of Social and Economic History', 'pages': '89–107', 'date': '2018', 'volume': 'xv', 'title': 'Conflict Management and Interdisciplinary History: Presentation of a New Project and an Analytical Model’', 'author': 'Wubs-Mrozewicz, J.', 'ENTRYTYPE': 'article', 'ID': 'wubs-mrozewicz2018a'}\n"
     ]
    },
    {
     "ename": "KeyboardInterrupt",
     "evalue": "",
     "output_type": "error",
     "traceback": [
      "\u001B[0;31m---------------------------------------------------------------------------\u001B[0m",
      "\u001B[0;31mKeyboardInterrupt\u001B[0m                         Traceback (most recent call last)",
      "Cell \u001B[0;32mIn[50], line 13\u001B[0m\n\u001B[1;32m     11\u001B[0m \u001B[38;5;28;01mfor\u001B[39;00m reference \u001B[38;5;129;01min\u001B[39;00m references:\n\u001B[1;32m     12\u001B[0m     command \u001B[38;5;241m=\u001B[39m [\u001B[38;5;124m'\u001B[39m\u001B[38;5;124mruby\u001B[39m\u001B[38;5;124m'\u001B[39m, \u001B[38;5;124m'\u001B[39m\u001B[38;5;124manystyle.rb\u001B[39m\u001B[38;5;124m'\u001B[39m, \u001B[38;5;28mstr\u001B[39m(reference)]\n\u001B[0;32m---> 13\u001B[0m     bibtex \u001B[38;5;241m=\u001B[39m subprocess\u001B[38;5;241m.\u001B[39mrun(command, stdout\u001B[38;5;241m=\u001B[39msubprocess\u001B[38;5;241m.\u001B[39mPIPE, text\u001B[38;5;241m=\u001B[39m\u001B[38;5;28;01mTrue\u001B[39;00m)\u001B[38;5;241m.\u001B[39mstdout\n\u001B[1;32m     14\u001B[0m     parsed_bibtex \u001B[38;5;241m=\u001B[39m bibtexparser\u001B[38;5;241m.\u001B[39mloads(bibtex)\u001B[38;5;241m.\u001B[39mentries[\u001B[38;5;241m0\u001B[39m]\n\u001B[1;32m     16\u001B[0m     \u001B[38;5;28mprint\u001B[39m(parsed_bibtex)\n",
      "File \u001B[0;32m~/anaconda3/envs/data-science/lib/python3.11/subprocess.py:550\u001B[0m, in \u001B[0;36mrun\u001B[0;34m(input, capture_output, timeout, check, *popenargs, **kwargs)\u001B[0m\n\u001B[1;32m    548\u001B[0m \u001B[38;5;28;01mwith\u001B[39;00m Popen(\u001B[38;5;241m*\u001B[39mpopenargs, \u001B[38;5;241m*\u001B[39m\u001B[38;5;241m*\u001B[39mkwargs) \u001B[38;5;28;01mas\u001B[39;00m process:\n\u001B[1;32m    549\u001B[0m     \u001B[38;5;28;01mtry\u001B[39;00m:\n\u001B[0;32m--> 550\u001B[0m         stdout, stderr \u001B[38;5;241m=\u001B[39m process\u001B[38;5;241m.\u001B[39mcommunicate(\u001B[38;5;28minput\u001B[39m, timeout\u001B[38;5;241m=\u001B[39mtimeout)\n\u001B[1;32m    551\u001B[0m     \u001B[38;5;28;01mexcept\u001B[39;00m TimeoutExpired \u001B[38;5;28;01mas\u001B[39;00m exc:\n\u001B[1;32m    552\u001B[0m         process\u001B[38;5;241m.\u001B[39mkill()\n",
      "File \u001B[0;32m~/anaconda3/envs/data-science/lib/python3.11/subprocess.py:1196\u001B[0m, in \u001B[0;36mPopen.communicate\u001B[0;34m(self, input, timeout)\u001B[0m\n\u001B[1;32m   1194\u001B[0m     \u001B[38;5;28mself\u001B[39m\u001B[38;5;241m.\u001B[39m_stdin_write(\u001B[38;5;28minput\u001B[39m)\n\u001B[1;32m   1195\u001B[0m \u001B[38;5;28;01melif\u001B[39;00m \u001B[38;5;28mself\u001B[39m\u001B[38;5;241m.\u001B[39mstdout:\n\u001B[0;32m-> 1196\u001B[0m     stdout \u001B[38;5;241m=\u001B[39m \u001B[38;5;28mself\u001B[39m\u001B[38;5;241m.\u001B[39mstdout\u001B[38;5;241m.\u001B[39mread()\n\u001B[1;32m   1197\u001B[0m     \u001B[38;5;28mself\u001B[39m\u001B[38;5;241m.\u001B[39mstdout\u001B[38;5;241m.\u001B[39mclose()\n\u001B[1;32m   1198\u001B[0m \u001B[38;5;28;01melif\u001B[39;00m \u001B[38;5;28mself\u001B[39m\u001B[38;5;241m.\u001B[39mstderr:\n",
      "\u001B[0;31mKeyboardInterrupt\u001B[0m: "
     ]
    }
   ],
   "source": [
    "folder_path = \"../all_data_articles\"\n",
    "\n",
    "for filename in os.listdir(folder_path):\n",
    "    if filename.endswith(\".json\") and filename.startswith(\"Royal_Companies\"):\n",
    "        file_path = os.path.join(folder_path, filename)\n",
    "        article = json.load(open(file_path, \"r\"))\n",
    "        \n",
    "        for number, footnote in article[\"footnotes\"].items():\n",
    "            references = re.split('; |. See |, see | .See also',footnote)\n",
    "            \n",
    "            for reference in references:\n",
    "                command = ['ruby', 'anystyle.rb', str(reference)]\n",
    "                bibtex = subprocess.run(command, stdout=subprocess.PIPE, text=True).stdout\n",
    "                parsed_bibtex = bibtexparser.loads(bibtex).entries[0]\n",
    "\n",
    "                print(parsed_bibtex)\n",
    "\n",
    "                if \"note\" in parsed_bibtex:\n",
    "                    #print(parsed_bibtex)\n",
    "                    continue\n",
    "                    \n",
    "                if \"title\" in parsed_bibtex:\n",
    "                    title = parsed_bibtex[\"title\"]"
   ],
   "metadata": {
    "collapsed": false,
    "ExecuteTime": {
     "end_time": "2023-12-10T16:16:23.421990120Z",
     "start_time": "2023-12-10T16:16:16.842182525Z"
    }
   },
   "id": "dbdc9410c3c67647"
  },
  {
   "cell_type": "code",
   "execution_count": null,
   "outputs": [],
   "source": [],
   "metadata": {
    "collapsed": false
   },
   "id": "96f5eea7b3fc6952"
  }
 ],
 "metadata": {
  "kernelspec": {
   "display_name": "Python 3",
   "language": "python",
   "name": "python3"
  },
  "language_info": {
   "codemirror_mode": {
    "name": "ipython",
    "version": 2
   },
   "file_extension": ".py",
   "mimetype": "text/x-python",
   "name": "python",
   "nbconvert_exporter": "python",
   "pygments_lexer": "ipython2",
   "version": "2.7.6"
  }
 },
 "nbformat": 4,
 "nbformat_minor": 5
}
