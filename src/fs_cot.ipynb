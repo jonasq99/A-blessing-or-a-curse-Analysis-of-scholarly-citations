{
 "cells": [
  {
   "cell_type": "code",
   "execution_count": 1,
   "metadata": {},
   "outputs": [],
   "source": [
    "import json\n",
    "import math\n",
    "import pandas as pd\n",
    "\n",
    "#from text_extraction import file_finder, TextExtraction\n",
    "from data_creator import create_data\n",
    "from utils import get_context, few_shot_cot, get_fewshot_cot_examples, get_label\n",
    "from dotenv import load_dotenv\n",
    "from pathlib import Path\n",
    "\n",
    "from sklearn.metrics import f1_score\n",
    "from tqdm import tqdm"
   ]
  },
  {
   "cell_type": "code",
   "execution_count": 2,
   "metadata": {},
   "outputs": [],
   "source": [
    "df_dict = create_data(500, 30)\n",
    "\n",
    "def filter_label(dataframes_dict: dict[pd.DataFrame], label: int) -> pd.DataFrame:\n",
    "    # Create an empty list to store filtered DataFrames\n",
    "    filtered_dataframes = []\n",
    "    \n",
    "    for key, df in dataframes_dict.items():\n",
    "        if 'Label' in df.columns:\n",
    "            filtered_df = df[df['Label'] == label]\n",
    "            \n",
    "            filtered_dataframes.append(filtered_df)\n",
    "    \n",
    "    result_df = pd.concat(filtered_dataframes, ignore_index=True)\n",
    "    \n",
    "    return result_df\n",
    "\n",
    "def sample_data(dataframe):\n",
    "    sampled_df = dataframe.sample(n=100, random_state=42) \n",
    "    return sampled_df\n",
    "\n",
    "\n",
    "\n",
    "opinionated_data = filter_label(df_dict, 1)\n",
    "neutral_data = sample_data(filter_label(df_dict, 0))"
   ]
  },
  {
   "cell_type": "code",
   "execution_count": 3,
   "metadata": {},
   "outputs": [],
   "source": [
    "df = pd.concat([opinionated_data, neutral_data], ignore_index=True)"
   ]
  },
  {
   "cell_type": "code",
   "execution_count": 4,
   "metadata": {},
   "outputs": [
    {
     "name": "stderr",
     "output_type": "stream",
     "text": [
      "  0%|          | 0/100 [00:00<?, ?it/s]"
     ]
    },
    {
     "name": "stderr",
     "output_type": "stream",
     "text": [
      "  1%|          | 1/100 [00:03<05:41,  3.45s/it]"
     ]
    },
    {
     "name": "stdout",
     "output_type": "stream",
     "text": [
      "The label \"neutral\" is appropriate for this citation because the author does not make any statement about the quality or value of the cited work. The citation simply describes the action taken by Kenyon in sending a draft of AJC resolutions to Sir Louis Mallet in Paris. There is no expression of personal opinion or judgment about the work or its authors, making it a neutral citation.\n"
     ]
    },
    {
     "name": "stderr",
     "output_type": "stream",
     "text": [
      "  2%|▏         | 2/100 [00:06<04:55,  3.01s/it]"
     ]
    },
    {
     "name": "stdout",
     "output_type": "stream",
     "text": [
      "The label for this citation is \"neutral.\" The author of the citation does not make any statement about the quality or value of the cited work by Léon Duguit. The citation provides a summary of historical events and sociological determinants without expressing any personal opinion or judgment about the work itself. The focus is on presenting information about the impact of military mobilization on political sociology during the Great War, rather than evaluating the quality of the cited work or its author. Therefore, the citation is neutral in nature.\n"
     ]
    },
    {
     "name": "stderr",
     "output_type": "stream",
     "text": [
      "  3%|▎         | 3/100 [00:08<04:16,  2.65s/it]"
     ]
    },
    {
     "name": "stdout",
     "output_type": "stream",
     "text": [
      "The label \"neutral\" is appropriate for this citation because the author does not make any statement about the quality or value of the cited work. The citation simply presents information regarding the determination of knowledge potential based on specific articles and calculations related to insurance policies. The author does not express any personal opinion or judgment about the work \"Nouveau commentaire\" or its authors, making it a neutral citation.\n"
     ]
    },
    {
     "name": "stderr",
     "output_type": "stream",
     "text": [
      "  4%|▍         | 4/100 [00:10<04:10,  2.61s/it]"
     ]
    },
    {
     "name": "stdout",
     "output_type": "stream",
     "text": [
      "The label for this citation is \"neutral.\" The citation presents information from R.A. Griffiths' work without expressing any opinion or judgment about the quality, value, or significance of the cited work or its author. The focus is on the content of the pardon rolls and their demonstration of the offenses attributed to women during King Henry VI's reign, without introducing any subjective evaluation or bias. Therefore, the citation is neutral as it does not include any opinionated statements about the work or its author.\n"
     ]
    },
    {
     "name": "stderr",
     "output_type": "stream",
     "text": [
      "  5%|▌         | 5/100 [00:12<03:45,  2.37s/it]"
     ]
    },
    {
     "name": "stdout",
     "output_type": "stream",
     "text": [
      "The label for this citation is \"neutral.\" The citation simply reports a historical event and a comparison made by a French newspaper without expressing any opinion or judgment about the quality of the newspaper or its statement. The author does not evaluate the accuracy or significance of the comparison, maintaining a neutral stance by presenting the information without personal commentary or critique.\n"
     ]
    },
    {
     "name": "stderr",
     "output_type": "stream",
     "text": [
      "  6%|▌         | 6/100 [00:15<03:48,  2.43s/it]"
     ]
    },
    {
     "name": "stdout",
     "output_type": "stream",
     "text": [
      "The label for this citation is \"neutral.\" The citation simply mentions Joseph Reinach's involvement in the treaty without providing any opinion or judgment about his actions, character, or the significance of his contribution. The author of the citation neutrally credits Reinach as a politician, writer, and Dreyfusard for his role in the inclusion of the item in the treaty, without expressing any evaluative statements or subjective viewpoints. Therefore, the citation remains neutral in nature by focusing on factual information without introducing any personal assessment.\n"
     ]
    },
    {
     "name": "stderr",
     "output_type": "stream",
     "text": [
      "  7%|▋         | 7/100 [00:18<03:56,  2.54s/it]"
     ]
    },
    {
     "name": "stdout",
     "output_type": "stream",
     "text": [
      "The label \"opinionated\" is appropriate for this citation because the author expresses their opinion by stating that the study by Florence Brisset-Foucault is likened to the debate over Document Number Five, implying a level of significance and relevance. The author also evaluates the investigation as an exploration of what could and could not be said, indicating a judgment on the study's focus and contribution to understanding political authority in Uganda. These evaluative statements demonstrate the author's subjective viewpoint, making the citation opinionated.\n"
     ]
    },
    {
     "name": "stderr",
     "output_type": "stream",
     "text": [
      "  8%|▊         | 8/100 [00:21<04:03,  2.65s/it]"
     ]
    },
    {
     "name": "stdout",
     "output_type": "stream",
     "text": [
      "The label \"opinionated\" is suitable for this citation because the author presents a critical assessment of Edward Heath's leadership by stating that his unpopularity and perceived divisiveness created opportunities for the Liberals. The author also questions whether Labour or the Conservatives were sufficiently independent to represent the national interest, based on Heath's rhetoric. These statements reflect the author's judgment on Heath's effectiveness and the political landscape during that time, making the citation opinionated.\n"
     ]
    },
    {
     "name": "stderr",
     "output_type": "stream",
     "text": [
      "  9%|▉         | 9/100 [00:23<03:58,  2.62s/it]"
     ]
    },
    {
     "name": "stdout",
     "output_type": "stream",
     "text": [
      "The label for this citation is \"opinionated.\" The citation includes a statement by 'Peter Kawesa' that expresses a viewpoint on the democratic process, suggesting that the 'common man' can choose a representative based on confidence. This declaration reflects an opinion or judgment on the effectiveness or significance of party elections in empowering the ordinary citizen. Therefore, the citation is considered opinionated due to the evaluative nature of the statement made by 'Peter Kawesa' regarding the democratic process and the selection of representatives.\n"
     ]
    },
    {
     "name": "stderr",
     "output_type": "stream",
     "text": [
      " 10%|█         | 10/100 [00:26<04:00,  2.67s/it]"
     ]
    },
    {
     "name": "stdout",
     "output_type": "stream",
     "text": [
      "The label \"opinionated\" is appropriate for this citation because the author uses the terms \"controversial\" and \"largely fruitless\" to describe the inquiry commissioned by Thorpe. These terms indicate a judgment or evaluation of the effectiveness and impact of the investigation, suggesting a negative view of its outcomes. The author's choice of language conveys a subjective opinion about the inquiry's significance and results, making the citation opinionated rather than neutral.\n"
     ]
    },
    {
     "name": "stderr",
     "output_type": "stream",
     "text": [
      " 11%|█         | 11/100 [00:28<03:54,  2.63s/it]"
     ]
    },
    {
     "name": "stdout",
     "output_type": "stream",
     "text": [
      "The label \"opinionated\" is not applicable to this citation. The citation is \"neutral\" because it does not contain any judgment or evaluation of the quality, value, or impact of the work \"Fluxes: The Early Modern Body and the Emotions\" by Ulinka Rublack. The author simply references the work to support the statement about the early modern body's material fluidity and the management of passions through daily labor, without expressing any personal opinion or assessment of the cited work.\n"
     ]
    },
    {
     "name": "stderr",
     "output_type": "stream",
     "text": [
      " 12%|█▏        | 12/100 [00:31<03:57,  2.70s/it]"
     ]
    },
    {
     "name": "stdout",
     "output_type": "stream",
     "text": [
      "The label for this citation is \"neutral.\" The citation provides historical information about the Royal Insurance Company and its involvement in state interests during the Nine Years War without expressing any personal opinion or judgment about the quality, significance, or impact of the cited work or its authors. The focus is on presenting facts and historical events related to the Royal Insurance Company's activities, making it a neutral citation.\n"
     ]
    },
    {
     "name": "stderr",
     "output_type": "stream",
     "text": [
      " 13%|█▎        | 13/100 [00:34<03:45,  2.60s/it]"
     ]
    },
    {
     "name": "stdout",
     "output_type": "stream",
     "text": [
      "The label \"neutral\" is appropriate for this citation because the author does not make any statement about the quality or value of the cited work. The citation simply presents information about foods recommended to avoid to prevent the onset of choler and anger, referencing various historical sources. There is no expression of personal opinion or judgment about the work \"Theatrum Botanicum: The Theater of Plants\" or its authors, making it a neutral citation.\n"
     ]
    },
    {
     "name": "stderr",
     "output_type": "stream",
     "text": [
      " 14%|█▍        | 14/100 [00:36<03:45,  2.62s/it]"
     ]
    },
    {
     "name": "stdout",
     "output_type": "stream",
     "text": [
      "The label \"neutral\" is appropriate for this citation because the author does not make any statement about the quality or value of the cited work. The citation simply presents a quote from an observer regarding the significance of newspapers and radio in the mid-1960s, emphasizing their importance for the educated elite and influentials. The author does not express any personal opinion or judgement about the work \"Press Politics and Public Policy\" or its author, making it a neutral citation.\n"
     ]
    },
    {
     "name": "stderr",
     "output_type": "stream",
     "text": [
      " 15%|█▌        | 15/100 [00:39<03:43,  2.63s/it]"
     ]
    },
    {
     "name": "stdout",
     "output_type": "stream",
     "text": [
      "The label \"opinionated\" is not applicable to this citation. The citation is neutral because it does not contain any judgment or evaluation of the quality, significance, or impact of the cited work or the authors mentioned. It simply presents information about the use of ingredients in early modern medical knowledge and comfort-eating practices related to melancholy, referencing specific recipe books and ingredients without expressing any subjective opinions or assessments. The focus is on historical practices and ingredients rather than on the quality of the work itself.\n"
     ]
    },
    {
     "name": "stderr",
     "output_type": "stream",
     "text": [
      " 16%|█▌        | 16/100 [00:41<03:28,  2.49s/it]"
     ]
    },
    {
     "name": "stdout",
     "output_type": "stream",
     "text": [
      "The label \"neutral\" is appropriate for this citation because the author does not make any statement about the quality or value of the cited work. The citation simply provides information about the Royal Insurance Company and its historical context within the environment of suspicion towards insurance. The author does not express any personal opinion or judgment about the work or its author, making it a neutral citation.\n"
     ]
    },
    {
     "name": "stderr",
     "output_type": "stream",
     "text": [
      " 17%|█▋        | 17/100 [00:44<03:25,  2.48s/it]"
     ]
    },
    {
     "name": "stdout",
     "output_type": "stream",
     "text": [
      "The label for this citation is \"opinionated.\" The author of the citation uses the term \"suspicious\" to describe the gaze of an international audience towards one-party rule. By characterizing the international audience as suspicious, the author introduces a subjective viewpoint on the perception of one-party states and democracy. This expression of suspicion implies a negative connotation and reflects the author's judgment or evaluation of the international perspective on one-party rule, making the citation opinionated.\n"
     ]
    },
    {
     "name": "stderr",
     "output_type": "stream",
     "text": [
      " 18%|█▊        | 18/100 [00:46<03:25,  2.50s/it]"
     ]
    },
    {
     "name": "stdout",
     "output_type": "stream",
     "text": [
      "The label for this citation is \"opinionated.\" The author expresses a judgment about Clemenceau's understanding and actions, stating that his repressive measures were unlikely to quell the revolt of the south. This evaluation of Clemenceau's approach introduces a subjective viewpoint, making the citation opinionated rather than neutral.\n"
     ]
    },
    {
     "name": "stderr",
     "output_type": "stream",
     "text": [
      " 19%|█▉        | 19/100 [00:49<03:24,  2.52s/it]"
     ]
    },
    {
     "name": "stdout",
     "output_type": "stream",
     "text": [
      "The label \"neutral\" is appropriate for this citation because the author does not make any statement about the quality or value of the cited works or the authors mentioned in the footnote. The citation simply acknowledges the existing scholarly field and the framing of contributions by historians of the urban experience during the war in local and comparative terms. There is no expression of personal opinion or judgment regarding the quality, significance, or impact of the referenced works, maintaining a neutral stance in the citation.\n"
     ]
    },
    {
     "name": "stderr",
     "output_type": "stream",
     "text": [
      " 20%|██        | 20/100 [00:52<03:37,  2.72s/it]"
     ]
    },
    {
     "name": "stdout",
     "output_type": "stream",
     "text": [
      "The label \"opinionated\" is appropriate for this citation because the author of the citation evaluates the success and strategies of Cyril Carr and Trevor Jones in Liverpool, describing their tactics as yielding \"its biggest dividends\" and exploiting voters' frustrations effectively. The mention of \"ideal foil for Liberal activism\" and the growth of the Liberal group from four to forty-six councillors indicates a positive assessment of the Liberal party's actions and impact. These evaluative statements suggest a judgment on the quality and effectiveness of the political strategies employed, making the citation opinionated.\n"
     ]
    },
    {
     "name": "stderr",
     "output_type": "stream",
     "text": [
      " 21%|██        | 21/100 [00:54<03:28,  2.64s/it]"
     ]
    },
    {
     "name": "stdout",
     "output_type": "stream",
     "text": [
      "The label \"opinionated\" is not applicable to this citation. The citation is neutral because it presents historical information about the impact of phylloxera on the local winemaking industry and the subsequent capitalist developments without expressing any personal opinion or judgment about the work or its authors. The focus is on describing the historical events and economic changes in the town, rather than evaluating the quality or significance of the cited sources.\n"
     ]
    },
    {
     "name": "stderr",
     "output_type": "stream",
     "text": [
      " 22%|██▏       | 22/100 [00:57<03:26,  2.65s/it]"
     ]
    },
    {
     "name": "stdout",
     "output_type": "stream",
     "text": [
      "The label \"neutral\" is appropriate for this citation because the author does not make any statement about the quality or value of the cited work or the actions of the British Academy. The citation presents historical information about the beliefs and actions of American and British plans regarding the antiquities in the former Ottoman Empire, as well as the correspondence between the British Academy and the Institut de France. The author does not express any personal opinion or judgment about the work or the organizations involved, maintaining a neutral stance in the citation.\n"
     ]
    },
    {
     "name": "stderr",
     "output_type": "stream",
     "text": [
      " 23%|██▎       | 23/100 [01:00<03:21,  2.62s/it]"
     ]
    },
    {
     "name": "stdout",
     "output_type": "stream",
     "text": [
      "The label for this citation is \"neutral.\" The citation provides factual information about the financial resources allocated to different political parties during the elections of 1974 without expressing any opinion or judgment about the quality, effectiveness, or significance of the financial aspects discussed in the work \"British Political Finance\" by Pinto-Duschinsky. The focus is on presenting data related to political finance rather than evaluating it, making the citation neutral in nature.\n"
     ]
    },
    {
     "name": "stderr",
     "output_type": "stream",
     "text": [
      " 24%|██▍       | 24/100 [01:02<03:20,  2.63s/it]"
     ]
    },
    {
     "name": "stdout",
     "output_type": "stream",
     "text": [
      "The label \"opinionated\" is suitable for this citation because the author, Keith Middlemas, provides a characterization and evaluation of the period 1972–4 as the last and boldest attempt to reverse the UK's economic decline through corporatist cooperation. Middlemas describes it as a strategic attempt to rethink the postwar settlement, which was ultimately undermined by various factors. This characterization reflects the author's judgment and interpretation of the events and policies during that period, making the citation opinionated.\n"
     ]
    },
    {
     "name": "stderr",
     "output_type": "stream",
     "text": [
      " 25%|██▌       | 25/100 [01:06<03:34,  2.86s/it]"
     ]
    },
    {
     "name": "stdout",
     "output_type": "stream",
     "text": [
      "The label for this citation is \"neutral.\" The citation does not contain any judgment or evaluation of the quality, significance, or impact of the work referenced. It simply presents historical information about Louis XIV declaring war against the Dutch on the same day as the event involving Trullet and his ship, without expressing any opinion on the cited work or its authors. The focus is on factual details related to the arbitration dispute between the two companies in 1689, maintaining a neutral stance in the citation.\n"
     ]
    },
    {
     "name": "stderr",
     "output_type": "stream",
     "text": [
      " 26%|██▌       | 26/100 [01:08<03:24,  2.77s/it]"
     ]
    },
    {
     "name": "stdout",
     "output_type": "stream",
     "text": [
      "The label for this citation is \"neutral.\" The author simply reports on the agreements between Austria and Italy regarding the reparation of cultural objects and archives without expressing any personal opinion or judgment about the quality, significance, or implications of the agreements. The citation focuses on presenting historical information without adding any evaluative commentary, making it a neutral citation.\n"
     ]
    },
    {
     "name": "stderr",
     "output_type": "stream",
     "text": [
      " 27%|██▋       | 27/100 [01:11<03:17,  2.71s/it]"
     ]
    },
    {
     "name": "stdout",
     "output_type": "stream",
     "text": [
      "The label \"neutral\" is appropriate for this citation because the author does not make any statement about the quality or value of the cited work. The citation simply describes Young's interest in exploring working-class culture and how it was influenced by the war effort, specifically through community-based projects like the WEA. The author presents this information without expressing any personal opinion or judgment about the work or its author, maintaining a neutral stance on the content of the citation.\n"
     ]
    },
    {
     "name": "stderr",
     "output_type": "stream",
     "text": [
      " 28%|██▊       | 28/100 [01:13<03:05,  2.57s/it]"
     ]
    },
    {
     "name": "stdout",
     "output_type": "stream",
     "text": [
      "The label for this citation is \"opinionated.\" The author of the citation expresses their opinion by discussing the differing perspectives of Madge and Young on state policy and working-class cultures. The author evaluates their arguments, highlighting the contrasting views on economic inequality and individuality within working-class communities. This evaluative language and analysis of the scholars' positions make the citation opinionated rather than neutral.\n"
     ]
    },
    {
     "name": "stderr",
     "output_type": "stream",
     "text": [
      " 29%|██▉       | 29/100 [01:15<02:53,  2.44s/it]"
     ]
    },
    {
     "name": "stdout",
     "output_type": "stream",
     "text": [
      "The label for this citation is \"neutral.\" The citation does not contain any opinionated statements or judgments about the quality, value, or significance of the Liberal Party papers or the content within them. It simply presents a quote from a document without expressing any personal evaluation or bias towards the work or its authors, making it a neutral citation.\n"
     ]
    },
    {
     "name": "stderr",
     "output_type": "stream",
     "text": [
      " 30%|███       | 30/100 [01:18<02:51,  2.45s/it]"
     ]
    },
    {
     "name": "stdout",
     "output_type": "stream",
     "text": [
      "The label for this citation is \"neutral.\" The citation provides historical information about women's involvement in revolts without expressing any opinion or judgment about the quality of the work or the significance of the historical events. The author simply references a source from TNA to support the statement about the revolts in 1536 and 1537, maintaining a neutral stance by presenting factual information without subjective evaluation.\n"
     ]
    },
    {
     "name": "stderr",
     "output_type": "stream",
     "text": [
      " 31%|███       | 31/100 [01:20<02:55,  2.54s/it]"
     ]
    },
    {
     "name": "stdout",
     "output_type": "stream",
     "text": [
      "The label \"opinionated\" is appropriate for this citation because the author expresses their opinion by stating that Alec Ryrie has shown English Protestants retained the practice of fasting post-Reformation, believing it to represent inner repentance. The citation also mentions the power of fasting to provoke and regulate passions, indicating a judgment on the significance and effects of fasting within Protestant beliefs. These statements reflect the author's evaluation and interpretation of Ryrie's work, making the citation opinionated.\n"
     ]
    },
    {
     "name": "stderr",
     "output_type": "stream",
     "text": [
      " 32%|███▏      | 32/100 [01:23<02:57,  2.61s/it]"
     ]
    },
    {
     "name": "stdout",
     "output_type": "stream",
     "text": [
      "The label \"opinionated\" is appropriate for this citation because the author, McSheffrey, is making a statement about the recent scholarship on the 1536–7 rebellions by arguing that there is no evidence for female participation. This assertion reflects the author's judgment on the existing research and the absence of acknowledgment of women's involvement in the events. By challenging the current scholarly narrative, McSheffrey introduces a critical perspective, indicating an opinion on the gender dynamics within popular politics during the northern revolts.\n"
     ]
    },
    {
     "name": "stderr",
     "output_type": "stream",
     "text": [
      " 33%|███▎      | 33/100 [01:26<02:51,  2.56s/it]"
     ]
    },
    {
     "name": "stdout",
     "output_type": "stream",
     "text": [
      "The label \"neutral\" is appropriate for this citation because the author does not make any statement about the quality or value of the cited work. The citation simply provides information about the discussions at the peace conference and the commissions involved, referencing the work of Trachtenberg and Sharp. There is no expression of personal opinion or judgment about the work or its authors, making it a neutral citation.\n"
     ]
    },
    {
     "name": "stderr",
     "output_type": "stream",
     "text": [
      " 34%|███▍      | 34/100 [01:28<02:53,  2.63s/it]"
     ]
    },
    {
     "name": "stdout",
     "output_type": "stream",
     "text": [
      "The label \"neutral\" is appropriate for this citation because the author does not make any statement about the quality or value of the cited work. The citation provides historical information about the role of social researchers during the wartime and post-war period, specifically mentioning Charles Madge's involvement in investigating social factors. The author does not express any personal opinion or judgment about the work \"Mass-Observers\" or its authors, making it a neutral citation.\n"
     ]
    },
    {
     "name": "stderr",
     "output_type": "stream",
     "text": [
      " 35%|███▌      | 35/100 [01:31<02:47,  2.58s/it]"
     ]
    },
    {
     "name": "stdout",
     "output_type": "stream",
     "text": [
      "The label for this citation is \"neutral.\" The citation provides information about the discussions and actions related to cultural reparation and repatriation without expressing any opinion or judgment about the quality, significance, or bias of the referenced source or its authors. The focus is on reporting historical events and perspectives without introducing subjective evaluations, making it a neutral citation.\n"
     ]
    },
    {
     "name": "stderr",
     "output_type": "stream",
     "text": [
      " 36%|███▌      | 36/100 [01:33<02:42,  2.54s/it]"
     ]
    },
    {
     "name": "stdout",
     "output_type": "stream",
     "text": [
      "The label \"neutral\" is appropriate for this citation because the author does not make any statement about the quality or value of the cited work. The citation simply references Philip Stern's use of a specific phrase in relation to the English East India Company and the debates on state sovereignty in the early modern period. The author presents this information without expressing any personal opinion or judgment about the work or its author, making it a neutral citation.\n"
     ]
    },
    {
     "name": "stderr",
     "output_type": "stream",
     "text": [
      " 37%|███▋      | 37/100 [01:36<02:34,  2.45s/it]"
     ]
    },
    {
     "name": "stdout",
     "output_type": "stream",
     "text": [
      "The label \"neutral\" is appropriate for this citation because the author does not make any statement about the quality or value of the cited work. The citation presents information about the expansion of state agency during the First World War without expressing any personal opinion or judgement about the work or its author. The focus is on the historical transformations of the state during the war, rather than on evaluating the work itself, making it a neutral citation.\n"
     ]
    },
    {
     "name": "stderr",
     "output_type": "stream",
     "text": [
      " 38%|███▊      | 38/100 [01:38<02:34,  2.48s/it]"
     ]
    },
    {
     "name": "stdout",
     "output_type": "stream",
     "text": [
      "The label \"neutral\" is appropriate for this citation because the author does not make any statement about the quality or value of the cited work. The citation simply references the work of Oxford political scientist S.E. Finer and his article on the 'defence of deadlock' in the context of electoral reform debates. The author does not express any personal opinion or judgement about the work or its author, making it a neutral citation.\n"
     ]
    },
    {
     "name": "stderr",
     "output_type": "stream",
     "text": [
      " 39%|███▉      | 39/100 [01:40<02:25,  2.38s/it]"
     ]
    },
    {
     "name": "stdout",
     "output_type": "stream",
     "text": [
      "The label \"opinionated\" is appropriate for this citation because the author of the citation explicitly states that the article argues a specific point regarding comfort eating in the early modern period. By mentioning that the article argues for a different perspective on comfort eating, the author is indicating a judgment or interpretation of the historical concept, making the citation opinionated.\n"
     ]
    },
    {
     "name": "stderr",
     "output_type": "stream",
     "text": [
      " 40%|████      | 40/100 [01:43<02:33,  2.56s/it]"
     ]
    },
    {
     "name": "stdout",
     "output_type": "stream",
     "text": [
      "The label for this citation is \"opinionated.\" The author of the citation evaluates the work by John Burrow, Stefan Collini, and Donald Winch by stating that they have described a literary language of artisanal 'craft' as characteristic of British liberalism. By attributing this description to the authors, the citation expresses a judgment about the quality and interpretation of the work, making it opinionated.\n"
     ]
    },
    {
     "name": "stderr",
     "output_type": "stream",
     "text": [
      " 41%|████      | 41/100 [01:46<02:27,  2.50s/it]"
     ]
    },
    {
     "name": "stdout",
     "output_type": "stream",
     "text": [
      "The label \"neutral\" is appropriate for this citation because it presents information about the practices of individuals in the seventeenth century regarding healthcare without expressing any opinion or judgment about the quality or significance of the work \"Household Medicine in Seventeenth-Century England\" by A. Stobart. The citation focuses on the methods and documentation of healthcare practices without evaluating the work itself or the authors, maintaining a neutral stance on the content.\n"
     ]
    },
    {
     "name": "stderr",
     "output_type": "stream",
     "text": [
      " 42%|████▏     | 42/100 [01:49<02:33,  2.64s/it]"
     ]
    },
    {
     "name": "stdout",
     "output_type": "stream",
     "text": [
      "The label \"neutral\" is appropriate for this citation because the author does not make any statement about the quality or value of the cited work. The citation simply provides information about the establishment of Amsterdam and London as significant insurance markets during the specified time period. The author does not express any personal opinion or judgement about the work \"Marine Insurance in the Netherlands, 1600–1870: A Comparative Institutional Approach\" by S. Go, making it a neutral citation.\n"
     ]
    },
    {
     "name": "stderr",
     "output_type": "stream",
     "text": [
      " 43%|████▎     | 43/100 [01:51<02:27,  2.58s/it]"
     ]
    },
    {
     "name": "stdout",
     "output_type": "stream",
     "text": [
      "The label \"neutral\" is appropriate for this citation because the author does not make any statement about the quality or value of the cited work. The citation provides information about the requirements and components of recipes for disorders like melancholy, referencing various sources for recipes containing different liquids. The author does not express any personal opinion or judgment about the work or its authors, making it a neutral citation.\n"
     ]
    },
    {
     "name": "stderr",
     "output_type": "stream",
     "text": [
      " 44%|████▍     | 44/100 [01:53<02:19,  2.49s/it]"
     ]
    },
    {
     "name": "stdout",
     "output_type": "stream",
     "text": [
      "The label \"neutral\" is appropriate for this citation because it provides factual information about a historical event without expressing any opinion or judgment about the quality, significance, or implications of the loan agreement between Lord Curzon and the Austrian Minister. The citation simply reports on the commitment made by the British government regarding the loan and the security pledged, based on the Treaty of Saint-Germain. There is no evaluative language or subjective commentary present in the citation, maintaining a neutral stance on the referenced historical transaction.\n"
     ]
    },
    {
     "name": "stderr",
     "output_type": "stream",
     "text": [
      " 45%|████▌     | 45/100 [01:55<02:12,  2.42s/it]"
     ]
    },
    {
     "name": "stdout",
     "output_type": "stream",
     "text": [
      "The label for this citation is \"neutral.\" The author of the citation presents information about the content of Lessius's publication and the case-study included, without expressing any personal opinion or judgment about the quality or value of the work. The citation focuses on summarizing the advice and case-study provided by Lessius, as well as the reference to Luigi Cornaro, without offering any subjective evaluation, making it a neutral citation.\n"
     ]
    },
    {
     "name": "stderr",
     "output_type": "stream",
     "text": [
      " 46%|████▌     | 46/100 [01:58<02:09,  2.40s/it]"
     ]
    },
    {
     "name": "stdout",
     "output_type": "stream",
     "text": [
      "The label for this citation is \"neutral.\" The author presents information about the significance of gifting food and acts of commensality in promoting social bonds, Christian community, altruism, and their medical implications. There is no expression of personal opinion or judgment regarding the quality or value of the work cited. The citation focuses on summarizing the content of the work without offering any subjective evaluation, making it a neutral citation.\n"
     ]
    },
    {
     "name": "stderr",
     "output_type": "stream",
     "text": [
      " 47%|████▋     | 47/100 [02:01<02:12,  2.51s/it]"
     ]
    },
    {
     "name": "stdout",
     "output_type": "stream",
     "text": [
      "The label \"opinionated\" is appropriate for this citation because the author discusses the reactions and discussions surrounding realignment in the political system, including Roy Jenkins and Dick Taverne's roles. The mention of Jenkins and his supporters rebuffing the idea of realignment and the description of Taverne's resignation and victory as a 'Democratic Labour' candidate implies a perspective on these events. The citation presents a viewpoint on the political dynamics and responses of key figures, indicating an opinionated stance rather than a neutral reporting of facts.\n"
     ]
    },
    {
     "name": "stderr",
     "output_type": "stream",
     "text": [
      " 48%|████▊     | 48/100 [02:03<02:06,  2.43s/it]"
     ]
    },
    {
     "name": "stdout",
     "output_type": "stream",
     "text": [
      "The label for this citation is \"neutral.\" The author presents historical information about the Italian government's actions regarding the restitution of artworks without expressing any personal opinion or judgment about the quality, significance, or implications of these events. The citation focuses on reporting the actions taken at the peace conference and the Italian government's list of artworks for restitution, maintaining a neutral stance on the subject matter.\n"
     ]
    },
    {
     "name": "stderr",
     "output_type": "stream",
     "text": [
      " 49%|████▉     | 49/100 [02:05<01:59,  2.35s/it]"
     ]
    },
    {
     "name": "stdout",
     "output_type": "stream",
     "text": [
      "The label \"neutral\" is appropriate for this citation because the author does not make any statement about the quality or value of the cited work. The citation simply references specific articles and regulations without expressing any personal opinion or judgment about the work \"Encylopædia Americana\" or its authors. The focus is on presenting the content and details of the regulations related to insurance knowledge, without evaluating the work itself, making it a neutral citation.\n"
     ]
    },
    {
     "name": "stderr",
     "output_type": "stream",
     "text": [
      " 50%|█████     | 50/100 [02:08<02:00,  2.41s/it]"
     ]
    },
    {
     "name": "stdout",
     "output_type": "stream",
     "text": [
      "The label for this citation is \"neutral.\" The citation presents a factual account of a legal decision regarding the Reparation Commission's authority to arrange for art pledges and facilitate bilateral agreements. It does not contain any subjective evaluation, opinion, or judgment about the quality, significance, or implications of the legal service's decision or the referenced historical event. The focus is on reporting the legal determination without introducing any personal viewpoint, making it a neutral citation.\n"
     ]
    },
    {
     "name": "stderr",
     "output_type": "stream",
     "text": [
      " 51%|█████     | 51/100 [02:10<02:04,  2.55s/it]"
     ]
    },
    {
     "name": "stdout",
     "output_type": "stream",
     "text": [
      "The label \"neutral\" is appropriate for this citation because the author does not make any statement about the quality or value of the cited work. The citation presents historical information about Louis XIV's conflict resolution attempts and the order of the Council of State without expressing any personal opinion or judgment about the work \"Z/1d/84\" or its authors. The focus is on reporting the details of the arbitration dispute and the actions taken, rather than evaluating the work itself, making it a neutral citation.\n"
     ]
    },
    {
     "name": "stderr",
     "output_type": "stream",
     "text": [
      " 52%|█████▏    | 52/100 [02:13<01:58,  2.48s/it]"
     ]
    },
    {
     "name": "stdout",
     "output_type": "stream",
     "text": [
      "The label for this citation is \"opinionated.\" The author expresses a positive opinion about Madge's belief that working people should have material opportunities to express their personalities through consumption. The author supports the idea of using top-level planning to facilitate this expression of identity and interaction within society. By endorsing Madge's perspective and advocating for the removal of economic and social barriers to consumption, the citation reflects an opinionated stance on the value and importance of bolstering inventive cultures through material opportunities.\n"
     ]
    },
    {
     "name": "stderr",
     "output_type": "stream",
     "text": [
      " 53%|█████▎    | 53/100 [02:15<01:55,  2.45s/it]"
     ]
    },
    {
     "name": "stdout",
     "output_type": "stream",
     "text": [
      "The label \"neutral\" is appropriate for this citation because the author does not make any statement about the quality or value of the cited work. The citation presents the findings of Young's research on the management of wartime social services without expressing any personal opinion or judgment about the work or its author. The focus is on the content of the research and its implications regarding the London County Council's shelter policies and working-class initiatives, making it a neutral citation.\n"
     ]
    },
    {
     "name": "stderr",
     "output_type": "stream",
     "text": [
      " 54%|█████▍    | 54/100 [02:18<01:51,  2.42s/it]"
     ]
    },
    {
     "name": "stdout",
     "output_type": "stream",
     "text": [
      "The label for this citation is \"neutral.\" The reason for this classification is that the author presents information about the decisions made at the Paris Peace Conference regarding Article 247 and Belgium's elevated status without expressing any personal opinion or judgment about the quality, significance, or implications of the work \"Reparation at the Paris Peace Conference\" by Burnett. The citation focuses on factual details and historical events without introducing any evaluative language, making it a neutral citation.\n"
     ]
    },
    {
     "name": "stderr",
     "output_type": "stream",
     "text": [
      " 55%|█████▌    | 55/100 [02:20<01:46,  2.37s/it]"
     ]
    },
    {
     "name": "stdout",
     "output_type": "stream",
     "text": [
      "The label for this citation is \"neutral.\" The citation provides factual information about the discussion and actions related to the restitution of cultural objects after World War I without expressing any opinion or judgment about the quality, significance, or impact of the cited works or authors. The focus is on presenting historical events and perspectives related to the return of cultural items, maintaining a neutral stance on the content of the sources referenced.\n"
     ]
    },
    {
     "name": "stderr",
     "output_type": "stream",
     "text": [
      " 56%|█████▌    | 56/100 [02:22<01:45,  2.40s/it]"
     ]
    },
    {
     "name": "stdout",
     "output_type": "stream",
     "text": [
      "The label \"opinionated\" is appropriate for this citation because the author makes a judgment about the performance of the Liberals, stating that they \"did better among the 'salariat' and other white-collar groups than among manual workers.\" This statement implies an evaluation of the Liberals' success based on different demographic groups, indicating a subjective viewpoint on the outcome. The use of the term \"better\" reflects a qualitative assessment of the party's performance rather than a neutral observation of electoral trends.\n"
     ]
    },
    {
     "name": "stderr",
     "output_type": "stream",
     "text": [
      " 57%|█████▋    | 57/100 [02:25<01:47,  2.51s/it]"
     ]
    },
    {
     "name": "stdout",
     "output_type": "stream",
     "text": [
      "The label \"opinionated\" is appropriate for this citation because the author expresses a judgment about the thinking of protestors and their perceived focus on 'women's issues'. The statement \"so the thinking goes\" implies a critical evaluation or interpretation of the protestors' motivations and the significance of their actions. This opinionated language indicates the author's subjective viewpoint on the protestors' intentions and the nature of their quarrel with the royal household, making the citation opinionated.\n"
     ]
    },
    {
     "name": "stderr",
     "output_type": "stream",
     "text": [
      " 58%|█████▊    | 58/100 [02:28<01:53,  2.71s/it]"
     ]
    },
    {
     "name": "stdout",
     "output_type": "stream",
     "text": [
      "The label \"opinionated\" is suitable for this citation because the author expresses their opinion on the work of Madge by highlighting his prefiguring of the Birmingham Centre for Contemporary Cultural Studies and the rich portrayals of working-class cultural life it produced. The author also presents a viewpoint on the significance of ordinary people's leisure activities and their relationship to capitalist society, indicating a judgment on the value and insightfulness of Madge's work. These evaluative statements make the citation opinionated rather than neutral.\n"
     ]
    },
    {
     "name": "stderr",
     "output_type": "stream",
     "text": [
      " 59%|█████▉    | 59/100 [02:30<01:44,  2.54s/it]"
     ]
    },
    {
     "name": "stdout",
     "output_type": "stream",
     "text": [
      "The label \"neutral\" is appropriate for this citation because it solely mentions the publication of a series of articles by C. Madge without providing any opinion or judgment on the quality, significance, or content of the work. The citation is neutral as it focuses on the publication details and does not include any evaluative language regarding the articles or the author's research.\n"
     ]
    },
    {
     "name": "stderr",
     "output_type": "stream",
     "text": [
      " 60%|██████    | 60/100 [02:33<01:40,  2.51s/it]"
     ]
    },
    {
     "name": "stdout",
     "output_type": "stream",
     "text": [
      "The label \"opinionated\" is appropriate for this citation because the author, John Gerard, provides a warning about the consumption of garlic based on its qualities, indicating that individuals of a hot complexion should abstain from it. This warning reflects Gerard's judgment on the effects of garlic on different temperaments, suggesting a certain level of evaluation or opinion regarding the food's suitability for individuals with specific characteristics. The citation goes beyond presenting information and includes a subjective assessment of the impact of garlic consumption, making it opinionated.\n"
     ]
    },
    {
     "name": "stderr",
     "output_type": "stream",
     "text": [
      " 61%|██████    | 61/100 [02:36<01:42,  2.62s/it]"
     ]
    },
    {
     "name": "stdout",
     "output_type": "stream",
     "text": [
      "The label for this citation is \"opinionated.\" The author expresses a judgment about the treatment of refugees during wartime, stating that they were no longer granted sympathy or special status among war victims. The author describes how refugees were accused of negative traits like idleness and opportunism, indicating a critical evaluation of the attitudes towards refugees. This opinionated tone is evident in the author's portrayal of the local populations as increasingly insensitive to the refugees' plight and demanding total participation in the war effort, reflecting a subjective viewpoint on the treatment of refugees during the war.\n"
     ]
    },
    {
     "name": "stderr",
     "output_type": "stream",
     "text": [
      " 62%|██████▏   | 62/100 [02:38<01:33,  2.45s/it]"
     ]
    },
    {
     "name": "stdout",
     "output_type": "stream",
     "text": [
      "The label for this citation is \"opinionated.\" The author of the citation includes the phrase \"bitingly put it,\" which indicates a judgment on the poet Taban lo Liyong's statement. By describing the poet's words as \"bitingly,\" the author of the citation introduces a subjective evaluation of the tone and impact of the statement, making the citation opinionated.\n"
     ]
    },
    {
     "name": "stderr",
     "output_type": "stream",
     "text": [
      " 63%|██████▎   | 63/100 [02:40<01:33,  2.51s/it]"
     ]
    },
    {
     "name": "stdout",
     "output_type": "stream",
     "text": [
      "The label \"neutral\" is appropriate for this citation because the author does not make any statement about the quality or value of the cited works or the authors mentioned. The citation simply acknowledges the scholarly field and the framing of contributions by historians of the urban experience during the war in local and comparative terms over the last two decades. There is no expression of personal opinion or judgment regarding the quality, significance, or impact of the referenced works, maintaining a neutral stance in the citation.\n"
     ]
    },
    {
     "name": "stderr",
     "output_type": "stream",
     "text": [
      " 64%|██████▍   | 64/100 [02:43<01:29,  2.48s/it]"
     ]
    },
    {
     "name": "stdout",
     "output_type": "stream",
     "text": [
      "The label for this citation is \"neutral.\" The citation simply reports historical information about Cromwell's response to Norfolk's report without expressing any opinion or judgment about the quality of the work, the authors, or the historical events described. The focus is on presenting the exchange of views without adding any evaluative commentary, making it a neutral citation.\n"
     ]
    },
    {
     "name": "stderr",
     "output_type": "stream",
     "text": [
      " 65%|██████▌   | 65/100 [02:45<01:26,  2.46s/it]"
     ]
    },
    {
     "name": "stdout",
     "output_type": "stream",
     "text": [
      "The label \"opinionated\" is appropriate for this citation because the author expresses their opinion on the concept of self-determination as being vague and inconsistently applied, specifically stating that it remained a vague idea and was limited in its application, only in Europe. This evaluation of the practical implementation of self-determination at the Paris conference introduces a subjective viewpoint on the effectiveness and scope of Wilson's promise, making the citation opinionated.\n"
     ]
    },
    {
     "name": "stderr",
     "output_type": "stream",
     "text": [
      " 66%|██████▌   | 66/100 [02:48<01:23,  2.46s/it]"
     ]
    },
    {
     "name": "stdout",
     "output_type": "stream",
     "text": [
      "The label for this citation is \"neutral.\" The reason for this classification is that the citation does not contain any judgment or evaluation of the work \"L’importation du marbre de Carrare\" or its author. It simply provides information about the planned voyage and payment terms related to the transportation of marble. The citation focuses on describing the process without expressing any opinion on the quality or significance of the cited work, making it a neutral citation.\n"
     ]
    },
    {
     "name": "stderr",
     "output_type": "stream",
     "text": [
      " 67%|██████▋   | 67/100 [02:50<01:23,  2.52s/it]"
     ]
    },
    {
     "name": "stdout",
     "output_type": "stream",
     "text": [
      "The label \"opinionated\" is suitable for this citation because the author expresses a critical viewpoint on the scholarly approach to defining and understanding women's participation in protests. The author argues that scholars have inadvertently erased the diverse meanings and interpretations of female involvement in protests by imposing rigid definitions. The citation reflects the author's opinion on the limitations of current scholarly practices and suggests a need for more flexible thinking in analyzing female participation in popular protest, indicating a judgment on the existing methodologies and perspectives in the field.\n"
     ]
    },
    {
     "name": "stderr",
     "output_type": "stream",
     "text": [
      " 68%|██████▊   | 68/100 [02:54<01:28,  2.78s/it]"
     ]
    },
    {
     "name": "stdout",
     "output_type": "stream",
     "text": [
      "The label for this citation is \"neutral.\" The reason for this classification is that the author does not make any statement about the quality or value of the cited work \"Peacemakers\" by MacMillan. The citation simply presents information about the vagueness of self-determination and the factors influencing decisions on state borders without expressing any personal opinion or judgment about the work or its author. The focus is on the content of the cited work rather than the author's evaluation, making it a neutral citation.\n"
     ]
    },
    {
     "name": "stderr",
     "output_type": "stream",
     "text": [
      " 69%|██████▉   | 69/100 [02:56<01:25,  2.74s/it]"
     ]
    },
    {
     "name": "stdout",
     "output_type": "stream",
     "text": [
      "The label \"opinionated\" is appropriate for this citation because the author, by quoting Thorpe's statement and referring to it as a claim, indirectly presents a viewpoint that suggests a critical assessment of Britain's economic situation and the need for government honesty about sacrifices. The use of phrases like \"living beyond its means\" and \"standard of living which cannot be sustained\" implies a judgment on the economic state and the necessity for policy changes. This opinion is reflected in the citation, making it opinionated.\n"
     ]
    },
    {
     "name": "stderr",
     "output_type": "stream",
     "text": [
      " 70%|███████   | 70/100 [02:59<01:21,  2.72s/it]"
     ]
    },
    {
     "name": "stdout",
     "output_type": "stream",
     "text": [
      "The label for this citation is \"opinionated.\" The author of the citation expresses an opinion by stating that the conviction regarding state coercion accounting for the tenacity of French soldiers underpins Frédéric Rousseau's central argument. This statement reflects the author's judgment on the central argument presented by Rousseau in the study \"14–18, penser le patriotisme.\" By attributing a specific belief to Rousseau's argument, the author introduces an evaluative perspective, making the citation opinionated.\n"
     ]
    },
    {
     "name": "stderr",
     "output_type": "stream",
     "text": [
      " 71%|███████   | 71/100 [03:01<01:16,  2.64s/it]"
     ]
    },
    {
     "name": "stdout",
     "output_type": "stream",
     "text": [
      "The label \"neutral\" is appropriate for this citation because the author does not make any statement about the quality or value of the cited work. The citation simply presents information about the political landscape in the UK during a specific period and references the work of B. Jackson as a source for the revival of Scottish nationalism in the 1970s. There is no expression of personal opinion or judgment about the work or its author, making it a neutral citation.\n"
     ]
    },
    {
     "name": "stderr",
     "output_type": "stream",
     "text": [
      " 72%|███████▏  | 72/100 [03:04<01:11,  2.55s/it]"
     ]
    },
    {
     "name": "stdout",
     "output_type": "stream",
     "text": [
      "The label for this citation is \"neutral.\" The reason for this classification is that the citation simply provides information about the source of the quoted phrase from Psalm 7 without expressing any opinion or judgment about the quality, significance, or interpretation of the text. The author is referencing the specific verse in the Authorized King James Version of the Bible, presenting the information without any subjective evaluation, making it a neutral citation.\n"
     ]
    },
    {
     "name": "stderr",
     "output_type": "stream",
     "text": [
      " 73%|███████▎  | 73/100 [03:06<01:06,  2.46s/it]"
     ]
    },
    {
     "name": "stdout",
     "output_type": "stream",
     "text": [
      "The label \"neutral\" is appropriate for this citation because the author presents information about the Liberals' reframing of their commitment to constitutional reform without expressing any personal opinion or judgment about the quality or significance of the Liberal Party papers. The citation focuses on the party's justification for electoral reform and devolution of power, detailing their rationale and proposals without offering an evaluative stance on the work or its authors. Therefore, the citation is neutral in nature.\n"
     ]
    },
    {
     "name": "stderr",
     "output_type": "stream",
     "text": [
      " 74%|███████▍  | 74/100 [03:09<01:05,  2.52s/it]"
     ]
    },
    {
     "name": "stdout",
     "output_type": "stream",
     "text": [
      "The label \"neutral\" is appropriate for this citation because the author does not make any statement about the quality or value of the cited work. The citation presents factual information about the economic significance of the local wine production in Béziers without expressing any personal opinion or judgement about the work \"Par 1600 1914, Annuaire de l’Hérault et des vignobles du Midi\" or its authors. The focus is on providing data and indicators related to the economic importance of the wine industry in the town, making it a neutral citation.\n"
     ]
    },
    {
     "name": "stderr",
     "output_type": "stream",
     "text": [
      " 75%|███████▌  | 75/100 [03:11<01:02,  2.50s/it]"
     ]
    },
    {
     "name": "stdout",
     "output_type": "stream",
     "text": [
      "The label \"neutral\" is appropriate for this citation because the author does not make any statement about the quality or value of the cited work. The citation presents historical information about a specific event in Henbury, Gloucestershire, without expressing any personal opinion or judgement about the work or its authors. The focus is on providing details about the incident and legal proceedings, rather than evaluating the significance or impact of the work cited. Therefore, the citation can be considered neutral in nature.\n"
     ]
    },
    {
     "name": "stderr",
     "output_type": "stream",
     "text": [
      " 76%|███████▌  | 76/100 [03:14<01:04,  2.71s/it]"
     ]
    },
    {
     "name": "stdout",
     "output_type": "stream",
     "text": [
      "The label for this citation is \"neutral.\" The citation presents information about Crassous's perspective on war and his hope for peace, reflecting the sentiments of French Socialists during that time. The author does not express any personal opinion or judgment about the quality of the work \"L’impôt du sang: La Gauche française à l’épreuve de la guerre mondiale, 1900–1945\" or its author, S. Luzzatto. The citation focuses on conveying historical facts and the views of individuals during the war period without introducing any evaluative statements, making it a neutral citation.\n"
     ]
    },
    {
     "name": "stderr",
     "output_type": "stream",
     "text": [
      " 77%|███████▋  | 77/100 [03:17<01:01,  2.69s/it]"
     ]
    },
    {
     "name": "stdout",
     "output_type": "stream",
     "text": [
      "The label \"opinionated\" is appropriate for this citation because the author describes the Conservatives' campaign against the Labour Party's 'post-war settlement' using terms like \"supposed profligacy, bureaucracy, and authoritarianism.\" These terms carry a negative connotation and imply a judgment about the nature of the Labour Party's policies. Additionally, the mention of the middle class turning against the government and rejecting its policies suggests a critical view of the Labour Party's approach. The author's language and portrayal of the political situation indicate an opinionated stance rather than a neutral presentation of facts.\n"
     ]
    },
    {
     "name": "stderr",
     "output_type": "stream",
     "text": [
      " 78%|███████▊  | 78/100 [03:19<00:57,  2.61s/it]"
     ]
    },
    {
     "name": "stdout",
     "output_type": "stream",
     "text": [
      "The label \"opinionated\" is appropriate for this citation because the author expresses a critical viewpoint by stating that the omission of the 1532 halting of the royal hunt from histories of political protest epitomizes the systemic oversight of female dissent in late medieval and early Tudor England. The author's assessment of the oversight and the goals outlined for the essay indicate a judgment on the existing historical narratives and the need for a re-evaluation of historical accounts. This opinionated stance distinguishes the citation from a neutral presentation of information.\n"
     ]
    },
    {
     "name": "stderr",
     "output_type": "stream",
     "text": [
      " 79%|███████▉  | 79/100 [03:22<00:54,  2.61s/it]"
     ]
    },
    {
     "name": "stdout",
     "output_type": "stream",
     "text": [
      "The label for this citation is \"neutral.\" The reason for this classification is that the author does not provide any subjective opinion or judgment about the quality, significance, or impact of the work cited. The citation simply reports on the historical accounts and suggestions made by various historians regarding the wartime projects of social reconstruction and the mobilization of the intelligentsia. The focus is on presenting the views of these historians without expressing any personal evaluation, making the citation neutral in nature.\n"
     ]
    },
    {
     "name": "stderr",
     "output_type": "stream",
     "text": [
      " 80%|████████  | 80/100 [03:24<00:49,  2.47s/it]"
     ]
    },
    {
     "name": "stdout",
     "output_type": "stream",
     "text": [
      "The label \"neutral\" is appropriate for this citation because the author does not make any statement about the quality or value of the cited work. The citation provides historical information about the Royal Insurance Company's procedure for resolving insurance conflicts and the specific events related to the appeal process. The author presents these details without expressing any personal opinion or judgment about the work or its authors, making it a neutral citation.\n"
     ]
    },
    {
     "name": "stderr",
     "output_type": "stream",
     "text": [
      " 81%|████████  | 81/100 [03:27<00:48,  2.56s/it]"
     ]
    },
    {
     "name": "stdout",
     "output_type": "stream",
     "text": [
      "The label for this citation is \"opinionated.\" The author of the citation expresses opinions and judgments about the impact and performance of various political figures and parties, such as Roy Jenkins, the Gang of Four, and Margaret Thatcher. The author evaluates the effectiveness of the SDP/Liberal Alliance, Roy Jenkins' performance, and the challenges faced during the 1983 election campaign. These assessments go beyond presenting information and reflect the author's subjective viewpoints on the political events and actors discussed in the citation.\n"
     ]
    },
    {
     "name": "stderr",
     "output_type": "stream",
     "text": [
      " 82%|████████▏ | 82/100 [03:29<00:44,  2.48s/it]"
     ]
    },
    {
     "name": "stdout",
     "output_type": "stream",
     "text": [
      "The label for this citation is \"opinionated.\" The author expresses their opinion by quoting Akiiki Mujaju's doubt about the effectiveness of one election in changing voter and politician behavior and emphasizing the need for 'the re-education of the educated.' This opinion reflects Mujaju's perspective on the proposed changes, indicating a judgment on the necessity of a broader educational effort beyond electoral processes. The citation goes beyond presenting information to include a viewpoint on the proposed solutions, making it opinionated.\n"
     ]
    },
    {
     "name": "stderr",
     "output_type": "stream",
     "text": [
      " 83%|████████▎ | 83/100 [03:31<00:40,  2.37s/it]"
     ]
    },
    {
     "name": "stdout",
     "output_type": "stream",
     "text": [
      "The label for this citation is \"neutral.\" The citation presents information from a chronicler without expressing any opinion or judgment about the quality or significance of the chronicler's account. The author simply reports on the composition of a majority female crowd without adding any evaluative language, making it a neutral citation.\n"
     ]
    },
    {
     "name": "stderr",
     "output_type": "stream",
     "text": [
      " 84%|████████▍ | 84/100 [03:34<00:40,  2.52s/it]"
     ]
    },
    {
     "name": "stdout",
     "output_type": "stream",
     "text": [
      "The label for this citation is \"neutral.\" The citation presents a historical fact about the actions taken by the German army to protect cultural sites in occupied territories without expressing any opinion or judgment about the quality or significance of the work \"Prohibiting Plunder\" by Sandholtz or the work \"War Land on the Eastern Front\" by Liulevičius. The citation focuses on conveying information about the protection of cultural sites during wartime, maintaining a neutral stance on the cited works and their authors.\n"
     ]
    },
    {
     "name": "stderr",
     "output_type": "stream",
     "text": [
      " 85%|████████▌ | 85/100 [03:37<00:37,  2.53s/it]"
     ]
    },
    {
     "name": "stdout",
     "output_type": "stream",
     "text": [
      "The label \"neutral\" is appropriate for this citation because it presents factual information about the party's expenditure on press advertisements and 'Take Power' posters orchestrated by Adrian Slade, without expressing any opinion or judgment about the quality, effectiveness, or significance of the work by J. Lawrence or the actions of Adrian Slade. The citation focuses on reporting the details of the advertising campaign without evaluating them, maintaining a neutral stance on the content and its creators.\n"
     ]
    },
    {
     "name": "stderr",
     "output_type": "stream",
     "text": [
      " 86%|████████▌ | 86/100 [03:39<00:35,  2.57s/it]"
     ]
    },
    {
     "name": "stdout",
     "output_type": "stream",
     "text": [
      "The label \"neutral\" is appropriate for this citation because the author does not make any statement about the quality or value of the cited works or authors. The citation provides a summary of the existing literature on the role of diet in early modern conceptions of health and disease without expressing any personal opinion or judgment about the significance or impact of the referenced works. The focus is on the historical analysis of the role of food and drink in regulating the passions and illnesses, presenting information without subjective evaluation, thus maintaining a neutral stance.\n"
     ]
    },
    {
     "name": "stderr",
     "output_type": "stream",
     "text": [
      " 87%|████████▋ | 87/100 [03:42<00:32,  2.50s/it]"
     ]
    },
    {
     "name": "stdout",
     "output_type": "stream",
     "text": [
      "The label \"neutral\" is appropriate for this citation because the author does not make any statement about the quality or value of the cited work. The citation presents information about Lawler's flirtation with nativism and a specific incident involving a traveller site in Barnsley without expressing any personal opinion or judgment about the work \"Liberal Party papers\" or its authors. The focus is on reporting historical events and attitudes within the Liberal Party, rather than evaluating the work itself, making it a neutral citation.\n"
     ]
    },
    {
     "name": "stderr",
     "output_type": "stream",
     "text": [
      " 88%|████████▊ | 88/100 [03:44<00:29,  2.43s/it]"
     ]
    },
    {
     "name": "stdout",
     "output_type": "stream",
     "text": [
      "The label \"neutral\" is appropriate for this citation because the author does not make any statement about the quality or value of the cited works or the authors mentioned. The citation simply acknowledges the scholarly field and the framing of contributions by historians in the context of urban experiences during the war. It does not express any personal opinion or judgment about the works referenced, maintaining a neutral stance on the scholarly field and its developments.\n"
     ]
    },
    {
     "name": "stderr",
     "output_type": "stream",
     "text": [
      " 89%|████████▉ | 89/100 [03:47<00:27,  2.50s/it]"
     ]
    },
    {
     "name": "stdout",
     "output_type": "stream",
     "text": [
      "The label \"opinionated\" is appropriate for this citation because the author expresses their opinion on the significance and importance of adopting a local focus, specifically on Béziers, to understand the mobilization of patriotic cultures in First World War France. The author argues that urban history sheds critical light on the nature and mobilization of patriotic cultures, emphasizing the role of urban civil societies in the success of national mobilization. This opinionated stance is evident in the author's evaluation of the local focus as a crucial aspect for historians of the French Third Republic to consider, challenging conventional historical narratives and methodologies.\n"
     ]
    },
    {
     "name": "stderr",
     "output_type": "stream",
     "text": [
      " 90%|█████████ | 90/100 [03:49<00:25,  2.58s/it]"
     ]
    },
    {
     "name": "stdout",
     "output_type": "stream",
     "text": [
      "The label \"opinionated\" is appropriate for this citation because the authors, Rémy Cazals, Frédéric Rousseau, Nicolas Offenstadt, and André Loez, assert a specific viewpoint that national mobilization during World War I was sustained through state coercion and propaganda. This statement reflects their interpretation and evaluation of historical events, indicating an opinion on the mechanisms behind national mobilization during the war. The authors' assertion goes beyond presenting information and involves a judgment on the nature of state influence on mobilization, making the citation opinionated.\n"
     ]
    },
    {
     "name": "stderr",
     "output_type": "stream",
     "text": [
      " 91%|█████████ | 91/100 [03:52<00:23,  2.66s/it]"
     ]
    },
    {
     "name": "stdout",
     "output_type": "stream",
     "text": [
      "The label \"opinionated\" is appropriate for this citation because the author expresses a judgment about the effectiveness of the target-seats operation conducted by the Liberals. The statement that the operation was \"less focused and effective than those which the Liberal Democrats would later develop\" indicates a comparative evaluation of the campaign strategy. Additionally, the mention of the campaign director becoming preoccupied with broadening the front of candidates suggests a critical viewpoint on the management of the campaign. These assessments reflect the author's opinion on the quality and outcomes of the cited work, making the citation opinionated.\n"
     ]
    },
    {
     "name": "stderr",
     "output_type": "stream",
     "text": [
      " 92%|█████████▏| 92/100 [03:55<00:20,  2.54s/it]"
     ]
    },
    {
     "name": "stdout",
     "output_type": "stream",
     "text": [
      "The label \"neutral\" is appropriate for this citation because the author, David Bien, is quoted without the author of the citation expressing any personal opinion or judgment about Bien's statement or work. The citation simply references Bien's idea about the benefits of membership in terms of social standing and access to royal networks without adding any evaluative commentary. The focus is on presenting Bien's perspective, making the citation neutral in nature.\n"
     ]
    },
    {
     "name": "stderr",
     "output_type": "stream",
     "text": [
      " 93%|█████████▎| 93/100 [03:57<00:16,  2.39s/it]"
     ]
    },
    {
     "name": "stdout",
     "output_type": "stream",
     "text": [
      "The label for this citation is \"neutral.\" The author does not make any statement about the quality or value of the cited work. The citation simply presents information from the diary of Ralph Josselin regarding his feelings after his baby's funeral and the kindness shown by Mary Church. There is no expression of personal opinion or judgment about the work or its authors, making it a neutral citation.\n"
     ]
    },
    {
     "name": "stderr",
     "output_type": "stream",
     "text": [
      " 94%|█████████▍| 94/100 [03:59<00:14,  2.35s/it]"
     ]
    },
    {
     "name": "stdout",
     "output_type": "stream",
     "text": [
      "The label \"neutral\" is appropriate for this citation because the author does not make any statement about the quality or value of the cited work. The citation presents information about the challenges faced by the Liberals in maintaining public profile and influence during the shift from election season to parliamentary routines. It describes the political landscape without expressing any personal opinion or judgment about the work \"Liberal Party papers\" or its authors, making it a neutral citation.\n"
     ]
    },
    {
     "name": "stderr",
     "output_type": "stream",
     "text": [
      " 95%|█████████▌| 95/100 [04:01<00:11,  2.32s/it]"
     ]
    },
    {
     "name": "stdout",
     "output_type": "stream",
     "text": [
      "The label for this citation is \"neutral.\" The reason for this classification is that the citation simply mentions Joan Lokwode in the context of the work \"Lord Fitzhugh’s Rising\" without providing any opinion or judgment about the quality, significance, or content of Joan Lokwode's contribution or the work itself. The citation is purely informative, stating the source of the information without expressing any evaluative statements.\n"
     ]
    },
    {
     "name": "stderr",
     "output_type": "stream",
     "text": [
      " 96%|█████████▌| 96/100 [04:03<00:09,  2.27s/it]"
     ]
    },
    {
     "name": "stdout",
     "output_type": "stream",
     "text": [
      "The label for this citation is \"neutral.\" The reason for this classification is that the author simply mentions the action taken by Nikola Pašić in highlighting the inequality of treatment in a letter to Clemenceau. There is no expression of personal opinion or judgment about the quality, significance, or impact of Pašić's action or the work itself. The citation serves to inform about a historical event without introducing any evaluative language, maintaining a neutral stance on the content.\n"
     ]
    },
    {
     "name": "stderr",
     "output_type": "stream",
     "text": [
      " 97%|█████████▋| 97/100 [04:06<00:06,  2.33s/it]"
     ]
    },
    {
     "name": "stdout",
     "output_type": "stream",
     "text": [
      "The label \"neutral\" is appropriate for this citation because the author does not make any statement about the quality or value of the cited work. The citation presents information about Ralph Josselin's interpretation of communal eating and his experiences without expressing any personal opinion or judgement about the work or its editor, Macfarlane. The focus is on the content of Josselin's diary entries and his actions, rather than on evaluating the diary itself, making it a neutral citation.\n"
     ]
    },
    {
     "name": "stderr",
     "output_type": "stream",
     "text": [
      " 98%|█████████▊| 98/100 [04:08<00:04,  2.40s/it]"
     ]
    },
    {
     "name": "stdout",
     "output_type": "stream",
     "text": [
      "The label \"opinionated\" is appropriate for this citation because the author makes a positive judgment about the impact of new community schemes on social leadership. Phrases like \"helped to foster 'unexpected sources of social leadership'\" indicate the author's evaluation of the outcome of these schemes, suggesting a positive view of the social changes brought about by the initiatives. This positive assessment of the social impact reflects the author's opinion, making the citation opinionated.\n"
     ]
    },
    {
     "name": "stderr",
     "output_type": "stream",
     "text": [
      " 99%|█████████▉| 99/100 [04:11<00:02,  2.57s/it]"
     ]
    },
    {
     "name": "stdout",
     "output_type": "stream",
     "text": [
      "The label for this citation is \"neutral.\" The reason for this classification is that the author does not make any statement about the quality or value of the cited work. The citation simply presents information about the findings from the February and October surveys without expressing any personal opinion or judgment about the work \"Angels in Plastic\" or its authors. The focus is on the data and conclusions drawn from the surveys, maintaining a neutral stance on the cited material.\n"
     ]
    },
    {
     "name": "stderr",
     "output_type": "stream",
     "text": [
      "100%|██████████| 100/100 [04:14<00:00,  2.54s/it]"
     ]
    },
    {
     "name": "stdout",
     "output_type": "stream",
     "text": [
      "The label \"opinionated\" is appropriate for this citation because the author expresses their opinion by stating that among academics, the weakness of the UPC and its dominance by regional big men was an accepted fact. This statement reflects a judgment about the perception and understanding of the party within academic circles, indicating a subjective evaluation of the party's structure and dynamics. The author's assertion of this accepted fact introduces a level of interpretation and assessment, making the citation opinionated rather than neutral.\n"
     ]
    },
    {
     "name": "stderr",
     "output_type": "stream",
     "text": [
      "\n"
     ]
    }
   ],
   "source": [
    "def get_precictions(df):\n",
    "    predictions = []\n",
    "    for i in tqdm(range(len(df))):\n",
    "        #name = df[\"Authors\"].iloc[i]\n",
    "        title = df[\"Title\"].iloc[i]\n",
    "        context = get_context(df[\"context\"].iloc[i])\n",
    "        footnote = df[\"footnote_text\"].iloc[i]\n",
    "        #pred = context_sentiment(context)\n",
    "        pred = few_shot_cot(examples = get_fewshot_cot_examples(), citation=context, title=title, footnote=footnote)\n",
    "        \n",
    "        #while pred != \"0\" and pred != \"1\":\n",
    "            #print(\"Retrying prediction...\")\n",
    "            #pred = few_shot_cot(examples = get_fewshot_cot_examples(), citation=context, title=title, footnote=footnote)\n",
    "        pred = get_label(pred)\n",
    "        predictions.append(pred)\n",
    "        #predictions = [int(i) for i in predictions]           \n",
    "    return predictions\n",
    "\n",
    "predictions = get_precictions(neutral_data)"
   ]
  },
  {
   "cell_type": "code",
   "execution_count": 5,
   "metadata": {},
   "outputs": [
    {
     "name": "stdout",
     "output_type": "stream",
     "text": [
      "F1 score: 0.6644295302013422\n",
      "Accuracy for label 0: 0.0\n",
      "Accuracy for label 1: 0.99\n"
     ]
    }
   ],
   "source": [
    "labels = df[\"Label\"].tolist()\n",
    "\n",
    "def calculate_accuracy_per_label(predictions, labels, label_value):\n",
    "    # Create a boolean array indicating whether the label matches the specified value\n",
    "    label_matches = [l == label_value for l in labels]\n",
    "  \n",
    "    # Extract predictions for instances where the label matches the specified value\n",
    "    matched_predictions = [p for i, p in enumerate(predictions) if label_matches[i]]\n",
    "        \n",
    "    return sum(matched_predictions)/100 if label_value == 1 else (len(matched_predictions) - sum(matched_predictions))/100\n",
    "   \n",
    "f1 = f1_score(predictions, labels)\n",
    "accuracy_label_0 = calculate_accuracy_per_label(predictions, labels, label_value=0)\n",
    "accuracy_label_1 = calculate_accuracy_per_label(predictions, labels, label_value=1)\n",
    "\n",
    "print(\"F1 score:\", f1)\n",
    "print(\"Accuracy for label 0:\", accuracy_label_0)\n",
    "print(\"Accuracy for label 1:\", accuracy_label_1)"
   ]
  }
 ],
 "metadata": {
  "kernelspec": {
   "display_name": "venv",
   "language": "python",
   "name": "python3"
  },
  "language_info": {
   "codemirror_mode": {
    "name": "ipython",
    "version": 3
   },
   "file_extension": ".py",
   "mimetype": "text/x-python",
   "name": "python",
   "nbconvert_exporter": "python",
   "pygments_lexer": "ipython3",
   "version": "3.10.12"
  }
 },
 "nbformat": 4,
 "nbformat_minor": 2
}
