{
 "cells": [
  {
   "cell_type": "code",
   "execution_count": 10,
   "metadata": {},
   "outputs": [],
   "source": [
    "from src.final_scraper import *"
   ]
  },
  {
   "cell_type": "code",
   "execution_count": 11,
   "metadata": {},
   "outputs": [],
   "source": [
    "import pandas as pd"
   ]
  },
  {
   "cell_type": "code",
   "execution_count": 2,
   "metadata": {},
   "outputs": [],
   "source": [
    "title_doi_df = pd.read_csv('data/titles_doi.csv')"
   ]
  },
  {
   "cell_type": "code",
   "execution_count": 9,
   "metadata": {},
   "outputs": [
    {
     "name": "stdout",
     "output_type": "stream",
     "text": [
      "Scraping https://doi.org/10.1093/ehr/cead151\n"
     ]
    },
    {
     "ename": "ElementClickInterceptedException",
     "evalue": "Message: Element <a class=\"link link-ref link-reveal xref-fn js-xref-fn\" href=\"javascript:;\"> is not clickable at point (462,944) because another element <div class=\"reveal-modal-bg\"> obscures it\nStacktrace:\nRemoteError@chrome://remote/content/shared/RemoteError.sys.mjs:8:8\nWebDriverError@chrome://remote/content/shared/webdriver/Errors.sys.mjs:187:5\nElementClickInterceptedError@chrome://remote/content/shared/webdriver/Errors.sys.mjs:331:5\nwebdriverClickElement@chrome://remote/content/marionette/interaction.sys.mjs:162:11\ninteraction.clickElement@chrome://remote/content/marionette/interaction.sys.mjs:121:11\nclickElement@chrome://remote/content/marionette/actors/MarionetteCommandsChild.sys.mjs:214:29\nreceiveMessage@chrome://remote/content/marionette/actors/MarionetteCommandsChild.sys.mjs:97:31\n",
     "output_type": "error",
     "traceback": [
      "\u001b[0;31m---------------------------------------------------------------------------\u001b[0m",
      "\u001b[0;31mElementClickInterceptedException\u001b[0m          Traceback (most recent call last)",
      "\u001b[1;32m/Users/quenzer/Desktop/Data Science/3. Semester 2023 WS/Data Analysis Project/A-blessing-or-a-curse-Analysis-of-scholarly-citations/all_text_footnote_scraper.ipynb Zelle 8\u001b[0m line \u001b[0;36m4\n\u001b[1;32m      <a href='vscode-notebook-cell:/Users/quenzer/Desktop/Data%20Science/3.%20Semester%202023%20WS/Data%20Analysis%20Project/A-blessing-or-a-curse-Analysis-of-scholarly-citations/all_text_footnote_scraper.ipynb#W6sZmlsZQ%3D%3D?line=1'>2</a>\u001b[0m url \u001b[39m=\u001b[39m row[\u001b[39m'\u001b[39m\u001b[39mDOI\u001b[39m\u001b[39m'\u001b[39m]\n\u001b[1;32m      <a href='vscode-notebook-cell:/Users/quenzer/Desktop/Data%20Science/3.%20Semester%202023%20WS/Data%20Analysis%20Project/A-blessing-or-a-curse-Analysis-of-scholarly-citations/all_text_footnote_scraper.ipynb#W6sZmlsZQ%3D%3D?line=2'>3</a>\u001b[0m \u001b[39mprint\u001b[39m(\u001b[39mf\u001b[39m\u001b[39m\"\u001b[39m\u001b[39mScraping \u001b[39m\u001b[39m{\u001b[39;00murl\u001b[39m}\u001b[39;00m\u001b[39m\"\u001b[39m)\n\u001b[0;32m----> <a href='vscode-notebook-cell:/Users/quenzer/Desktop/Data%20Science/3.%20Semester%202023%20WS/Data%20Analysis%20Project/A-blessing-or-a-curse-Analysis-of-scholarly-citations/all_text_footnote_scraper.ipynb#W6sZmlsZQ%3D%3D?line=3'>4</a>\u001b[0m data \u001b[39m=\u001b[39m scrape_all(url)\n\u001b[1;32m      <a href='vscode-notebook-cell:/Users/quenzer/Desktop/Data%20Science/3.%20Semester%202023%20WS/Data%20Analysis%20Project/A-blessing-or-a-curse-Analysis-of-scholarly-citations/all_text_footnote_scraper.ipynb#W6sZmlsZQ%3D%3D?line=4'>5</a>\u001b[0m save_data(data)\n\u001b[1;32m      <a href='vscode-notebook-cell:/Users/quenzer/Desktop/Data%20Science/3.%20Semester%202023%20WS/Data%20Analysis%20Project/A-blessing-or-a-curse-Analysis-of-scholarly-citations/all_text_footnote_scraper.ipynb#W6sZmlsZQ%3D%3D?line=5'>6</a>\u001b[0m time\u001b[39m.\u001b[39msleep(random_sleep())\n",
      "\u001b[1;32m/Users/quenzer/Desktop/Data Science/3. Semester 2023 WS/Data Analysis Project/A-blessing-or-a-curse-Analysis-of-scholarly-citations/all_text_footnote_scraper.ipynb Zelle 8\u001b[0m line \u001b[0;36m3\n\u001b[1;32m     <a href='vscode-notebook-cell:/Users/quenzer/Desktop/Data%20Science/3.%20Semester%202023%20WS/Data%20Analysis%20Project/A-blessing-or-a-curse-Analysis-of-scholarly-citations/all_text_footnote_scraper.ipynb#W6sZmlsZQ%3D%3D?line=34'>35</a>\u001b[0m article, footnotes_numbers \u001b[39m=\u001b[39m scrape_article(soup, url)\n\u001b[1;32m     <a href='vscode-notebook-cell:/Users/quenzer/Desktop/Data%20Science/3.%20Semester%202023%20WS/Data%20Analysis%20Project/A-blessing-or-a-curse-Analysis-of-scholarly-citations/all_text_footnote_scraper.ipynb#W6sZmlsZQ%3D%3D?line=35'>36</a>\u001b[0m publication_data[\u001b[39m'\u001b[39m\u001b[39marticle\u001b[39m\u001b[39m'\u001b[39m] \u001b[39m=\u001b[39m article\n\u001b[0;32m---> <a href='vscode-notebook-cell:/Users/quenzer/Desktop/Data%20Science/3.%20Semester%202023%20WS/Data%20Analysis%20Project/A-blessing-or-a-curse-Analysis-of-scholarly-citations/all_text_footnote_scraper.ipynb#W6sZmlsZQ%3D%3D?line=37'>38</a>\u001b[0m footnotes \u001b[39m=\u001b[39m scrape_footnotes(driver)\n\u001b[1;32m     <a href='vscode-notebook-cell:/Users/quenzer/Desktop/Data%20Science/3.%20Semester%202023%20WS/Data%20Analysis%20Project/A-blessing-or-a-curse-Analysis-of-scholarly-citations/all_text_footnote_scraper.ipynb#W6sZmlsZQ%3D%3D?line=38'>39</a>\u001b[0m publication_data[\u001b[39m'\u001b[39m\u001b[39mfootnotes\u001b[39m\u001b[39m'\u001b[39m] \u001b[39m=\u001b[39m footnotes\n\u001b[1;32m     <a href='vscode-notebook-cell:/Users/quenzer/Desktop/Data%20Science/3.%20Semester%202023%20WS/Data%20Analysis%20Project/A-blessing-or-a-curse-Analysis-of-scholarly-citations/all_text_footnote_scraper.ipynb#W6sZmlsZQ%3D%3D?line=40'>41</a>\u001b[0m driver\u001b[39m.\u001b[39mclose()\n",
      "\u001b[1;32m/Users/quenzer/Desktop/Data Science/3. Semester 2023 WS/Data Analysis Project/A-blessing-or-a-curse-Analysis-of-scholarly-citations/all_text_footnote_scraper.ipynb Zelle 8\u001b[0m line \u001b[0;36m1\n\u001b[1;32m     <a href='vscode-notebook-cell:/Users/quenzer/Desktop/Data%20Science/3.%20Semester%202023%20WS/Data%20Analysis%20Project/A-blessing-or-a-curse-Analysis-of-scholarly-citations/all_text_footnote_scraper.ipynb#W6sZmlsZQ%3D%3D?line=14'>15</a>\u001b[0m \u001b[39mexcept\u001b[39;00m \u001b[39mException\u001b[39;00m \u001b[39mas\u001b[39;00m e:\n\u001b[1;32m     <a href='vscode-notebook-cell:/Users/quenzer/Desktop/Data%20Science/3.%20Semester%202023%20WS/Data%20Analysis%20Project/A-blessing-or-a-curse-Analysis-of-scholarly-citations/all_text_footnote_scraper.ipynb#W6sZmlsZQ%3D%3D?line=15'>16</a>\u001b[0m     \u001b[39mprint\u001b[39m(\u001b[39mf\u001b[39m\u001b[39m\"\u001b[39m\u001b[39mError: \u001b[39m\u001b[39m{\u001b[39;00me\u001b[39m}\u001b[39;00m\u001b[39m\"\u001b[39m)\n\u001b[0;32m---> <a href='vscode-notebook-cell:/Users/quenzer/Desktop/Data%20Science/3.%20Semester%202023%20WS/Data%20Analysis%20Project/A-blessing-or-a-curse-Analysis-of-scholarly-citations/all_text_footnote_scraper.ipynb#W6sZmlsZQ%3D%3D?line=17'>18</a>\u001b[0m c\u001b[39m.\u001b[39;49mclick()\n\u001b[1;32m     <a href='vscode-notebook-cell:/Users/quenzer/Desktop/Data%20Science/3.%20Semester%202023%20WS/Data%20Analysis%20Project/A-blessing-or-a-curse-Analysis-of-scholarly-citations/all_text_footnote_scraper.ipynb#W6sZmlsZQ%3D%3D?line=18'>19</a>\u001b[0m time\u001b[39m.\u001b[39msleep(random_sleep())\n\u001b[1;32m     <a href='vscode-notebook-cell:/Users/quenzer/Desktop/Data%20Science/3.%20Semester%202023%20WS/Data%20Analysis%20Project/A-blessing-or-a-curse-Analysis-of-scholarly-citations/all_text_footnote_scraper.ipynb#W6sZmlsZQ%3D%3D?line=20'>21</a>\u001b[0m \u001b[39m# Wait for the citation to be visible\u001b[39;00m\n",
      "File \u001b[0;32m~/miniforge3/lib/python3.9/site-packages/selenium/webdriver/remote/webelement.py:94\u001b[0m, in \u001b[0;36mWebElement.click\u001b[0;34m(self)\u001b[0m\n\u001b[1;32m     92\u001b[0m \u001b[39mdef\u001b[39;00m \u001b[39mclick\u001b[39m(\u001b[39mself\u001b[39m) \u001b[39m-\u001b[39m\u001b[39m>\u001b[39m \u001b[39mNone\u001b[39;00m:\n\u001b[1;32m     93\u001b[0m     \u001b[39m\"\"\"Clicks the element.\"\"\"\u001b[39;00m\n\u001b[0;32m---> 94\u001b[0m     \u001b[39mself\u001b[39;49m\u001b[39m.\u001b[39;49m_execute(Command\u001b[39m.\u001b[39;49mCLICK_ELEMENT)\n",
      "File \u001b[0;32m~/miniforge3/lib/python3.9/site-packages/selenium/webdriver/remote/webelement.py:395\u001b[0m, in \u001b[0;36mWebElement._execute\u001b[0;34m(self, command, params)\u001b[0m\n\u001b[1;32m    393\u001b[0m     params \u001b[39m=\u001b[39m {}\n\u001b[1;32m    394\u001b[0m params[\u001b[39m\"\u001b[39m\u001b[39mid\u001b[39m\u001b[39m\"\u001b[39m] \u001b[39m=\u001b[39m \u001b[39mself\u001b[39m\u001b[39m.\u001b[39m_id\n\u001b[0;32m--> 395\u001b[0m \u001b[39mreturn\u001b[39;00m \u001b[39mself\u001b[39;49m\u001b[39m.\u001b[39;49m_parent\u001b[39m.\u001b[39;49mexecute(command, params)\n",
      "File \u001b[0;32m~/miniforge3/lib/python3.9/site-packages/selenium/webdriver/remote/webdriver.py:346\u001b[0m, in \u001b[0;36mWebDriver.execute\u001b[0;34m(self, driver_command, params)\u001b[0m\n\u001b[1;32m    344\u001b[0m response \u001b[39m=\u001b[39m \u001b[39mself\u001b[39m\u001b[39m.\u001b[39mcommand_executor\u001b[39m.\u001b[39mexecute(driver_command, params)\n\u001b[1;32m    345\u001b[0m \u001b[39mif\u001b[39;00m response:\n\u001b[0;32m--> 346\u001b[0m     \u001b[39mself\u001b[39;49m\u001b[39m.\u001b[39;49merror_handler\u001b[39m.\u001b[39;49mcheck_response(response)\n\u001b[1;32m    347\u001b[0m     response[\u001b[39m\"\u001b[39m\u001b[39mvalue\u001b[39m\u001b[39m\"\u001b[39m] \u001b[39m=\u001b[39m \u001b[39mself\u001b[39m\u001b[39m.\u001b[39m_unwrap_value(response\u001b[39m.\u001b[39mget(\u001b[39m\"\u001b[39m\u001b[39mvalue\u001b[39m\u001b[39m\"\u001b[39m, \u001b[39mNone\u001b[39;00m))\n\u001b[1;32m    348\u001b[0m     \u001b[39mreturn\u001b[39;00m response\n",
      "File \u001b[0;32m~/miniforge3/lib/python3.9/site-packages/selenium/webdriver/remote/errorhandler.py:245\u001b[0m, in \u001b[0;36mErrorHandler.check_response\u001b[0;34m(self, response)\u001b[0m\n\u001b[1;32m    243\u001b[0m         alert_text \u001b[39m=\u001b[39m value[\u001b[39m\"\u001b[39m\u001b[39malert\u001b[39m\u001b[39m\"\u001b[39m]\u001b[39m.\u001b[39mget(\u001b[39m\"\u001b[39m\u001b[39mtext\u001b[39m\u001b[39m\"\u001b[39m)\n\u001b[1;32m    244\u001b[0m     \u001b[39mraise\u001b[39;00m exception_class(message, screen, stacktrace, alert_text)  \u001b[39m# type: ignore[call-arg]  # mypy is not smart enough here\u001b[39;00m\n\u001b[0;32m--> 245\u001b[0m \u001b[39mraise\u001b[39;00m exception_class(message, screen, stacktrace)\n",
      "\u001b[0;31mElementClickInterceptedException\u001b[0m: Message: Element <a class=\"link link-ref link-reveal xref-fn js-xref-fn\" href=\"javascript:;\"> is not clickable at point (462,944) because another element <div class=\"reveal-modal-bg\"> obscures it\nStacktrace:\nRemoteError@chrome://remote/content/shared/RemoteError.sys.mjs:8:8\nWebDriverError@chrome://remote/content/shared/webdriver/Errors.sys.mjs:187:5\nElementClickInterceptedError@chrome://remote/content/shared/webdriver/Errors.sys.mjs:331:5\nwebdriverClickElement@chrome://remote/content/marionette/interaction.sys.mjs:162:11\ninteraction.clickElement@chrome://remote/content/marionette/interaction.sys.mjs:121:11\nclickElement@chrome://remote/content/marionette/actors/MarionetteCommandsChild.sys.mjs:214:29\nreceiveMessage@chrome://remote/content/marionette/actors/MarionetteCommandsChild.sys.mjs:97:31\n"
     ]
    }
   ],
   "source": [
    "for index, row in title_doi_df[:10].iterrows():\n",
    "    url = row['DOI']\n",
    "    print(f\"Scraping {url}\")\n",
    "    data = scrape_all(url)\n",
    "    save_data(data)\n",
    "    time.sleep(random_sleep())"
   ]
  },
  {
   "cell_type": "code",
   "execution_count": null,
   "metadata": {},
   "outputs": [],
   "source": []
  }
 ],
 "metadata": {
  "kernelspec": {
   "display_name": "base",
   "language": "python",
   "name": "python3"
  },
  "language_info": {
   "codemirror_mode": {
    "name": "ipython",
    "version": 3
   },
   "file_extension": ".py",
   "mimetype": "text/x-python",
   "name": "python",
   "nbconvert_exporter": "python",
   "pygments_lexer": "ipython3",
   "version": "3.9.15"
  }
 },
 "nbformat": 4,
 "nbformat_minor": 2
}
